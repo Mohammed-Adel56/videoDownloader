{
 "cells": [
  {
   "cell_type": "code",
   "execution_count": 10,
   "metadata": {},
   "outputs": [],
   "source": [
    "import os\n",
    "import json"
   ]
  },
  {
   "cell_type": "code",
   "execution_count": 11,
   "metadata": {},
   "outputs": [
    {
     "data": {
      "text/plain": [
       "'youtube-dl \"https://www.dailymotion.com/video/x8b5ckm\" -J'"
      ]
     },
     "execution_count": 11,
     "metadata": {},
     "output_type": "execute_result"
    }
   ],
   "source": [
    "command ='youtube-dl \"https://www.dailymotion.com/video/x8b5ckm\" -J'\n",
    "command"
   ]
  },
  {
   "cell_type": "code",
   "execution_count": 12,
   "metadata": {},
   "outputs": [
    {
     "data": {
      "text/plain": [
       "'{\"id\": \"x8b5ckm\", \"title\": \"Twitter shareholder sues Elon Musk for alleged Twitter\\\\u2019s stock price manipulation | Oneindia News\", \"description\": \"Elon Musk faces a lawsuit accusing him of pushing down Twitter\\'s stock price in order to either get out of his $44 billion buyout bid, or room to negotiate a discount.\\\\n\\\\n#ElonMusk #Lawsuit #Twitter\", \"thumbnails\": [], \"duration\": 99, \"timestamp\": 1653630917, \"uploader\": \"Oneindia\", \"uploader_id\": \"xe6yp6\", \"age_limit\": 0, \"tags\": [\"Elon Musk sued by Twitter shareholders\", \" Elon Musk buys Twitter for 44 billion\", \" Billionaire Elon Musk\", \" Twitter biggest shareholder\", \" Twitter Blue users\", \" Twitter board\", \" Parag Agrawal tweet\", \" Tesla CEO\", \" SpaceX CEO\", \" William Heresniak\", \" Elon Musk on Twitter\", \" Tesla CEO Elon Musk sued.\"], \"view_count\": 17, \"like_count\": 0, \"formats\": [{\"format_id\": \"hls-380\", \"url\": \"https://vod3.cf.dmcdn.net/sec2(6JosPJyso9dymOg4yqB4W9XQZEMY_1elIXFqq6HmpCrKK1QvUK2QwFcIVEMA1a5QaSNO8jhQvwghgB88d0Bbqnanb9BzChAVQXkmlzZjPcmlQQ9csV5mQSpDlikfsHQTAuTWXH80i5TfKjApbWG3BSPaRjco2JGaJI9bQSKhZTs)/video/857/454/502454758_mp4_h264_aac.m3u8\", \"manifest_url\": \"https://www.dailymotion.com/cdn/manifest/video/x8b5ckm.m3u8?sec=nb2Ew2Ol46KXCPRYOzqToKywsbBWistQuCf-Wcjx2duO2aAmPe0hX0ORTlJcGUPkCzZrkDV4o5Gcr5nDRJqC_w&dmTs=754592&dmV1st=a1cb2ebf-3d06-48f4-9373-89b81cfe1d95\", \"tbr\": 460.56, \"ext\": \"mp4\", \"fps\": null, \"protocol\": \"m3u8_native\", \"preference\": null, \"width\": 512, \"height\": 288, \"vcodec\": \"avc1.4d0016\", \"acodec\": \"mp4a.40.5\", \"format\": \"hls-380 - 512x288\", \"http_headers\": {\"User-Agent\": \"Mozilla/5.0 (Windows NT 10.0; Win64; x64) AppleWebKit/537.36 (KHTML, like Gecko) Chrome/72.0.3611.0 Safari/537.36\", \"Accept-Charset\": \"ISO-8859-1,utf-8;q=0.7,*;q=0.7\", \"Accept\": \"text/html,application/xhtml+xml,application/xml;q=0.9,*/*;q=0.8\", \"Accept-Encoding\": \"gzip, deflate\", \"Accept-Language\": \"en-us,en;q=0.5\"}}, {\"format_id\": \"http-380\", \"url\": \"https://vod3.cf.dmcdn.net/sec2(iufGuO50kHb7Xv4tx806a2mS2spgv2n5OTyjtJGT6zy5kT0Xz7n2hjxPrhyZu9T0rEh4Pv9E70DRBQ09rYfEd826yb29r8j1NNNCcSfwSuEXY4RVP_XSkvtRhSskbSPURNYz-FZLJCvrL61Sz1vR3Zv61nmYYeWxV2kQpx2BRbhDZIkD251dYNOqQTa9BkAi)/video/857/454/502454758_mp4_h264_aac.mp4\", \"tbr\": 460.56, \"ext\": \"mp4\", \"fps\": null, \"protocol\": \"http\", \"preference\": null, \"width\": 512, \"height\": 288, \"vcodec\": \"avc1.4d0016\", \"acodec\": \"mp4a.40.5\", \"format\": \"http-380 - 512x288\", \"http_headers\": {\"User-Agent\": \"Mozilla/5.0 (Windows NT 10.0; Win64; x64) AppleWebKit/537.36 (KHTML, like Gecko) Chrome/72.0.3611.0 Safari/537.36\", \"Accept-Charset\": \"ISO-8859-1,utf-8;q=0.7,*;q=0.7\", \"Accept\": \"text/html,application/xhtml+xml,application/xml;q=0.9,*/*;q=0.8\", \"Accept-Encoding\": \"gzip, deflate\", \"Accept-Language\": \"en-us,en;q=0.5\"}}, {\"format_id\": \"hls-480\", \"url\": \"https://vod3.cf.dmcdn.net/sec2(c-7vnlGQ0Fyc1HBr_7H5tsDZJ5LDg3w057UZNxF5fTi8B7ynWgesd6UJFwVibz_qc_CmZ3wCyTKBYEUaSeWdBpwvbzhQT1XDqKYSxoeQ-yIL70XlS8waMZcr6h_8TdyFdw3x1bQUNVgY_qTt_HMihgD4skNigDrhrrqStGWvRtk)/video/857/454/502454758_mp4_h264_aac_hq.m3u8\", \"manifest_url\": \"https://www.dailymotion.com/cdn/manifest/video/x8b5ckm.m3u8?sec=nb2Ew2Ol46KXCPRYOzqToKywsbBWistQuCf-Wcjx2duO2aAmPe0hX0ORTlJcGUPkCzZrkDV4o5Gcr5nDRJqC_w&dmTs=754592&dmV1st=a1cb2ebf-3d06-48f4-9373-89b81cfe1d95\", \"tbr\": 836.28, \"ext\": \"mp4\", \"fps\": null, \"protocol\": \"m3u8_native\", \"preference\": null, \"width\": 848, \"height\": 480, \"vcodec\": \"avc1.64001f\", \"acodec\": \"mp4a.40.2\", \"format\": \"hls-480 - 848x480\", \"http_headers\": {\"User-Agent\": \"Mozilla/5.0 (Windows NT 10.0; Win64; x64) AppleWebKit/537.36 (KHTML, like Gecko) Chrome/72.0.3611.0 Safari/537.36\", \"Accept-Charset\": \"ISO-8859-1,utf-8;q=0.7,*;q=0.7\", \"Accept\": \"text/html,application/xhtml+xml,application/xml;q=0.9,*/*;q=0.8\", \"Accept-Encoding\": \"gzip, deflate\", \"Accept-Language\": \"en-us,en;q=0.5\"}}, {\"format_id\": \"http-480\", \"url\": \"https://vod3.cf.dmcdn.net/sec2(hnMBGd35K4vrpmfN7ZiM_RJzCUglcgxbC0QekYhAv9mJCVcBmD-wjEdmhGPv_8OaLCebeyIizN06PlYGYu5r3WV0GTrQ3efCE2YbD7z0B4x6YJHKM5zMX1VU_KXRIrHyATvh0T92ofxH3jsatnkqMaXrTdapEOnAyJTuj8WZEQgVAuf2XohM9nR31pXAbsGL)/video/857/454/502454758_mp4_h264_aac_hq.mp4\", \"tbr\": 836.28, \"ext\": \"mp4\", \"fps\": null, \"protocol\": \"http\", \"preference\": null, \"width\": 848, \"height\": 480, \"vcodec\": \"avc1.64001f\", \"acodec\": \"mp4a.40.2\", \"format\": \"http-480 - 848x480\", \"http_headers\": {\"User-Agent\": \"Mozilla/5.0 (Windows NT 10.0; Win64; x64) AppleWebKit/537.36 (KHTML, like Gecko) Chrome/72.0.3611.0 Safari/537.36\", \"Accept-Charset\": \"ISO-8859-1,utf-8;q=0.7,*;q=0.7\", \"Accept\": \"text/html,application/xhtml+xml,application/xml;q=0.9,*/*;q=0.8\", \"Accept-Encoding\": \"gzip, deflate\", \"Accept-Language\": \"en-us,en;q=0.5\"}}, {\"format_id\": \"hls-720\", \"url\": \"https://vod3.cf.dmcdn.net/sec2(Ukw0m372HIp34GF-0SxR5vFBkbyg9_w1uvM1spGTYHGTNq05bcqRy5RI2r-Fd1j4UJtwJw_AI0RrbNaFIHNpnWEjwKLw90-ncbFW2wRHQS6OnSBHzJlv4afl5xlGMtyw-ovlbwHIYEOn-m29clEwhkUHMVx2M2OQTHbus60El20)/video/857/454/502454758_mp4_h264_aac_hd.m3u8\", \"manifest_url\": \"https://www.dailymotion.com/cdn/manifest/video/x8b5ckm.m3u8?sec=nb2Ew2Ol46KXCPRYOzqToKywsbBWistQuCf-Wcjx2duO2aAmPe0hX0ORTlJcGUPkCzZrkDV4o5Gcr5nDRJqC_w&dmTs=754592&dmV1st=a1cb2ebf-3d06-48f4-9373-89b81cfe1d95\", \"tbr\": 2149.28, \"ext\": \"mp4\", \"fps\": null, \"protocol\": \"m3u8_native\", \"preference\": null, \"width\": 1280, \"height\": 720, \"vcodec\": \"avc1.64001f\", \"acodec\": \"mp4a.40.2\", \"format\": \"hls-720 - 1280x720\", \"http_headers\": {\"User-Agent\": \"Mozilla/5.0 (Windows NT 10.0; Win64; x64) AppleWebKit/537.36 (KHTML, like Gecko) Chrome/72.0.3611.0 Safari/537.36\", \"Accept-Charset\": \"ISO-8859-1,utf-8;q=0.7,*;q=0.7\", \"Accept\": \"text/html,application/xhtml+xml,application/xml;q=0.9,*/*;q=0.8\", \"Accept-Encoding\": \"gzip, deflate\", \"Accept-Language\": \"en-us,en;q=0.5\"}}, {\"format_id\": \"http-720\", \"url\": \"https://vod3.cf.dmcdn.net/sec2(Ho0vCHaqiURlLL526Ow9_XwT6KVNl1DRD3GQGmt2aZjU1Aq726Zuk7tvG3ZUsmJfWX9DNT62NPNHSKh2tBUR1qoQSFizIaxqrlBoNgWbpwRL_HCW9SGnfGaz9tabcobwDbnMBHyvNcvYjN3ZyPPYcR9wVgHhPplzVY_P1N7NdoCrXjyU-0e1t1W7NspCiohm)/video/857/454/502454758_mp4_h264_aac_hd.mp4\", \"tbr\": 2149.28, \"ext\": \"mp4\", \"fps\": null, \"protocol\": \"http\", \"preference\": null, \"width\": 1280, \"height\": 720, \"vcodec\": \"avc1.64001f\", \"acodec\": \"mp4a.40.2\", \"format\": \"http-720 - 1280x720\", \"http_headers\": {\"User-Agent\": \"Mozilla/5.0 (Windows NT 10.0; Win64; x64) AppleWebKit/537.36 (KHTML, like Gecko) Chrome/72.0.3611.0 Safari/537.36\", \"Accept-Charset\": \"ISO-8859-1,utf-8;q=0.7,*;q=0.7\", \"Accept\": \"text/html,application/xhtml+xml,application/xml;q=0.9,*/*;q=0.8\", \"Accept-Encoding\": \"gzip, deflate\", \"Accept-Language\": \"en-us,en;q=0.5\"}}], \"subtitles\": {}, \"is_live\": null, \"extractor\": \"dailymotion\", \"webpage_url\": \"https://www.dailymotion.com/video/x8b5ckm\", \"webpage_url_basename\": \"x8b5ckm\", \"extractor_key\": \"Dailymotion\", \"playlist\": null, \"playlist_index\": null, \"display_id\": \"x8b5ckm\", \"upload_date\": \"20220527\", \"requested_subtitles\": null, \"format_id\": \"http-720\", \"url\": \"https://vod3.cf.dmcdn.net/sec2(Ho0vCHaqiURlLL526Ow9_XwT6KVNl1DRD3GQGmt2aZjU1Aq726Zuk7tvG3ZUsmJfWX9DNT62NPNHSKh2tBUR1qoQSFizIaxqrlBoNgWbpwRL_HCW9SGnfGaz9tabcobwDbnMBHyvNcvYjN3ZyPPYcR9wVgHhPplzVY_P1N7NdoCrXjyU-0e1t1W7NspCiohm)/video/857/454/502454758_mp4_h264_aac_hd.mp4\", \"tbr\": 2149.28, \"ext\": \"mp4\", \"fps\": null, \"protocol\": \"http\", \"preference\": null, \"width\": 1280, \"height\": 720, \"vcodec\": \"avc1.64001f\", \"acodec\": \"mp4a.40.2\", \"format\": \"http-720 - 1280x720\", \"http_headers\": {\"User-Agent\": \"Mozilla/5.0 (Windows NT 10.0; Win64; x64) AppleWebKit/537.36 (KHTML, like Gecko) Chrome/72.0.3611.0 Safari/537.36\", \"Accept-Charset\": \"ISO-8859-1,utf-8;q=0.7,*;q=0.7\", \"Accept\": \"text/html,application/xhtml+xml,application/xml;q=0.9,*/*;q=0.8\", \"Accept-Encoding\": \"gzip, deflate\", \"Accept-Language\": \"en-us,en;q=0.5\"}}\\n'"
      ]
     },
     "execution_count": 12,
     "metadata": {},
     "output_type": "execute_result"
    }
   ],
   "source": [
    "output = os.popen(command).read()\n",
    "output"
   ]
  },
  {
   "cell_type": "code",
   "execution_count": 13,
   "metadata": {},
   "outputs": [],
   "source": [
    "video_data = json.loads(output)\n"
   ]
  },
  {
   "cell_type": "code",
   "execution_count": 14,
   "metadata": {},
   "outputs": [],
   "source": [
    "title = video_data['title']"
   ]
  },
  {
   "cell_type": "code",
   "execution_count": 15,
   "metadata": {},
   "outputs": [],
   "source": [
    "formats = video_data['formats']"
   ]
  },
  {
   "cell_type": "code",
   "execution_count": 16,
   "metadata": {},
   "outputs": [],
   "source": [
    "first_one = formats[0]"
   ]
  },
  {
   "cell_type": "code",
   "execution_count": 17,
   "metadata": {},
   "outputs": [
    {
     "data": {
      "text/plain": [
       "[{'format_id': 'hls-380',\n",
       "  'url': 'https://vod3.cf.dmcdn.net/sec2(6JosPJyso9dymOg4yqB4W9XQZEMY_1elIXFqq6HmpCrKK1QvUK2QwFcIVEMA1a5QaSNO8jhQvwghgB88d0Bbqnanb9BzChAVQXkmlzZjPcmlQQ9csV5mQSpDlikfsHQTAuTWXH80i5TfKjApbWG3BSPaRjco2JGaJI9bQSKhZTs)/video/857/454/502454758_mp4_h264_aac.m3u8',\n",
       "  'manifest_url': 'https://www.dailymotion.com/cdn/manifest/video/x8b5ckm.m3u8?sec=nb2Ew2Ol46KXCPRYOzqToKywsbBWistQuCf-Wcjx2duO2aAmPe0hX0ORTlJcGUPkCzZrkDV4o5Gcr5nDRJqC_w&dmTs=754592&dmV1st=a1cb2ebf-3d06-48f4-9373-89b81cfe1d95',\n",
       "  'tbr': 460.56,\n",
       "  'ext': 'mp4',\n",
       "  'fps': None,\n",
       "  'protocol': 'm3u8_native',\n",
       "  'preference': None,\n",
       "  'width': 512,\n",
       "  'height': 288,\n",
       "  'vcodec': 'avc1.4d0016',\n",
       "  'acodec': 'mp4a.40.5',\n",
       "  'format': 'hls-380 - 512x288',\n",
       "  'http_headers': {'User-Agent': 'Mozilla/5.0 (Windows NT 10.0; Win64; x64) AppleWebKit/537.36 (KHTML, like Gecko) Chrome/72.0.3611.0 Safari/537.36',\n",
       "   'Accept-Charset': 'ISO-8859-1,utf-8;q=0.7,*;q=0.7',\n",
       "   'Accept': 'text/html,application/xhtml+xml,application/xml;q=0.9,*/*;q=0.8',\n",
       "   'Accept-Encoding': 'gzip, deflate',\n",
       "   'Accept-Language': 'en-us,en;q=0.5'}},\n",
       " {'format_id': 'http-380',\n",
       "  'url': 'https://vod3.cf.dmcdn.net/sec2(iufGuO50kHb7Xv4tx806a2mS2spgv2n5OTyjtJGT6zy5kT0Xz7n2hjxPrhyZu9T0rEh4Pv9E70DRBQ09rYfEd826yb29r8j1NNNCcSfwSuEXY4RVP_XSkvtRhSskbSPURNYz-FZLJCvrL61Sz1vR3Zv61nmYYeWxV2kQpx2BRbhDZIkD251dYNOqQTa9BkAi)/video/857/454/502454758_mp4_h264_aac.mp4',\n",
       "  'tbr': 460.56,\n",
       "  'ext': 'mp4',\n",
       "  'fps': None,\n",
       "  'protocol': 'http',\n",
       "  'preference': None,\n",
       "  'width': 512,\n",
       "  'height': 288,\n",
       "  'vcodec': 'avc1.4d0016',\n",
       "  'acodec': 'mp4a.40.5',\n",
       "  'format': 'http-380 - 512x288',\n",
       "  'http_headers': {'User-Agent': 'Mozilla/5.0 (Windows NT 10.0; Win64; x64) AppleWebKit/537.36 (KHTML, like Gecko) Chrome/72.0.3611.0 Safari/537.36',\n",
       "   'Accept-Charset': 'ISO-8859-1,utf-8;q=0.7,*;q=0.7',\n",
       "   'Accept': 'text/html,application/xhtml+xml,application/xml;q=0.9,*/*;q=0.8',\n",
       "   'Accept-Encoding': 'gzip, deflate',\n",
       "   'Accept-Language': 'en-us,en;q=0.5'}},\n",
       " {'format_id': 'hls-480',\n",
       "  'url': 'https://vod3.cf.dmcdn.net/sec2(c-7vnlGQ0Fyc1HBr_7H5tsDZJ5LDg3w057UZNxF5fTi8B7ynWgesd6UJFwVibz_qc_CmZ3wCyTKBYEUaSeWdBpwvbzhQT1XDqKYSxoeQ-yIL70XlS8waMZcr6h_8TdyFdw3x1bQUNVgY_qTt_HMihgD4skNigDrhrrqStGWvRtk)/video/857/454/502454758_mp4_h264_aac_hq.m3u8',\n",
       "  'manifest_url': 'https://www.dailymotion.com/cdn/manifest/video/x8b5ckm.m3u8?sec=nb2Ew2Ol46KXCPRYOzqToKywsbBWistQuCf-Wcjx2duO2aAmPe0hX0ORTlJcGUPkCzZrkDV4o5Gcr5nDRJqC_w&dmTs=754592&dmV1st=a1cb2ebf-3d06-48f4-9373-89b81cfe1d95',\n",
       "  'tbr': 836.28,\n",
       "  'ext': 'mp4',\n",
       "  'fps': None,\n",
       "  'protocol': 'm3u8_native',\n",
       "  'preference': None,\n",
       "  'width': 848,\n",
       "  'height': 480,\n",
       "  'vcodec': 'avc1.64001f',\n",
       "  'acodec': 'mp4a.40.2',\n",
       "  'format': 'hls-480 - 848x480',\n",
       "  'http_headers': {'User-Agent': 'Mozilla/5.0 (Windows NT 10.0; Win64; x64) AppleWebKit/537.36 (KHTML, like Gecko) Chrome/72.0.3611.0 Safari/537.36',\n",
       "   'Accept-Charset': 'ISO-8859-1,utf-8;q=0.7,*;q=0.7',\n",
       "   'Accept': 'text/html,application/xhtml+xml,application/xml;q=0.9,*/*;q=0.8',\n",
       "   'Accept-Encoding': 'gzip, deflate',\n",
       "   'Accept-Language': 'en-us,en;q=0.5'}},\n",
       " {'format_id': 'http-480',\n",
       "  'url': 'https://vod3.cf.dmcdn.net/sec2(hnMBGd35K4vrpmfN7ZiM_RJzCUglcgxbC0QekYhAv9mJCVcBmD-wjEdmhGPv_8OaLCebeyIizN06PlYGYu5r3WV0GTrQ3efCE2YbD7z0B4x6YJHKM5zMX1VU_KXRIrHyATvh0T92ofxH3jsatnkqMaXrTdapEOnAyJTuj8WZEQgVAuf2XohM9nR31pXAbsGL)/video/857/454/502454758_mp4_h264_aac_hq.mp4',\n",
       "  'tbr': 836.28,\n",
       "  'ext': 'mp4',\n",
       "  'fps': None,\n",
       "  'protocol': 'http',\n",
       "  'preference': None,\n",
       "  'width': 848,\n",
       "  'height': 480,\n",
       "  'vcodec': 'avc1.64001f',\n",
       "  'acodec': 'mp4a.40.2',\n",
       "  'format': 'http-480 - 848x480',\n",
       "  'http_headers': {'User-Agent': 'Mozilla/5.0 (Windows NT 10.0; Win64; x64) AppleWebKit/537.36 (KHTML, like Gecko) Chrome/72.0.3611.0 Safari/537.36',\n",
       "   'Accept-Charset': 'ISO-8859-1,utf-8;q=0.7,*;q=0.7',\n",
       "   'Accept': 'text/html,application/xhtml+xml,application/xml;q=0.9,*/*;q=0.8',\n",
       "   'Accept-Encoding': 'gzip, deflate',\n",
       "   'Accept-Language': 'en-us,en;q=0.5'}},\n",
       " {'format_id': 'hls-720',\n",
       "  'url': 'https://vod3.cf.dmcdn.net/sec2(Ukw0m372HIp34GF-0SxR5vFBkbyg9_w1uvM1spGTYHGTNq05bcqRy5RI2r-Fd1j4UJtwJw_AI0RrbNaFIHNpnWEjwKLw90-ncbFW2wRHQS6OnSBHzJlv4afl5xlGMtyw-ovlbwHIYEOn-m29clEwhkUHMVx2M2OQTHbus60El20)/video/857/454/502454758_mp4_h264_aac_hd.m3u8',\n",
       "  'manifest_url': 'https://www.dailymotion.com/cdn/manifest/video/x8b5ckm.m3u8?sec=nb2Ew2Ol46KXCPRYOzqToKywsbBWistQuCf-Wcjx2duO2aAmPe0hX0ORTlJcGUPkCzZrkDV4o5Gcr5nDRJqC_w&dmTs=754592&dmV1st=a1cb2ebf-3d06-48f4-9373-89b81cfe1d95',\n",
       "  'tbr': 2149.28,\n",
       "  'ext': 'mp4',\n",
       "  'fps': None,\n",
       "  'protocol': 'm3u8_native',\n",
       "  'preference': None,\n",
       "  'width': 1280,\n",
       "  'height': 720,\n",
       "  'vcodec': 'avc1.64001f',\n",
       "  'acodec': 'mp4a.40.2',\n",
       "  'format': 'hls-720 - 1280x720',\n",
       "  'http_headers': {'User-Agent': 'Mozilla/5.0 (Windows NT 10.0; Win64; x64) AppleWebKit/537.36 (KHTML, like Gecko) Chrome/72.0.3611.0 Safari/537.36',\n",
       "   'Accept-Charset': 'ISO-8859-1,utf-8;q=0.7,*;q=0.7',\n",
       "   'Accept': 'text/html,application/xhtml+xml,application/xml;q=0.9,*/*;q=0.8',\n",
       "   'Accept-Encoding': 'gzip, deflate',\n",
       "   'Accept-Language': 'en-us,en;q=0.5'}},\n",
       " {'format_id': 'http-720',\n",
       "  'url': 'https://vod3.cf.dmcdn.net/sec2(Ho0vCHaqiURlLL526Ow9_XwT6KVNl1DRD3GQGmt2aZjU1Aq726Zuk7tvG3ZUsmJfWX9DNT62NPNHSKh2tBUR1qoQSFizIaxqrlBoNgWbpwRL_HCW9SGnfGaz9tabcobwDbnMBHyvNcvYjN3ZyPPYcR9wVgHhPplzVY_P1N7NdoCrXjyU-0e1t1W7NspCiohm)/video/857/454/502454758_mp4_h264_aac_hd.mp4',\n",
       "  'tbr': 2149.28,\n",
       "  'ext': 'mp4',\n",
       "  'fps': None,\n",
       "  'protocol': 'http',\n",
       "  'preference': None,\n",
       "  'width': 1280,\n",
       "  'height': 720,\n",
       "  'vcodec': 'avc1.64001f',\n",
       "  'acodec': 'mp4a.40.2',\n",
       "  'format': 'http-720 - 1280x720',\n",
       "  'http_headers': {'User-Agent': 'Mozilla/5.0 (Windows NT 10.0; Win64; x64) AppleWebKit/537.36 (KHTML, like Gecko) Chrome/72.0.3611.0 Safari/537.36',\n",
       "   'Accept-Charset': 'ISO-8859-1,utf-8;q=0.7,*;q=0.7',\n",
       "   'Accept': 'text/html,application/xhtml+xml,application/xml;q=0.9,*/*;q=0.8',\n",
       "   'Accept-Encoding': 'gzip, deflate',\n",
       "   'Accept-Language': 'en-us,en;q=0.5'}}]"
      ]
     },
     "execution_count": 17,
     "metadata": {},
     "output_type": "execute_result"
    }
   ],
   "source": [
    "formats"
   ]
  },
  {
   "cell_type": "code",
   "execution_count": 18,
   "metadata": {},
   "outputs": [],
   "source": [
    "extension = first_one[\"ext\"]\n",
    "video_format = first_one[\"format\"]\n",
    "url=first_one[\"url\"]"
   ]
  },
  {
   "cell_type": "code",
   "execution_count": 21,
   "metadata": {},
   "outputs": [],
   "source": [
    "def extract_format_data(format_data):\n",
    "    extension = format_data[\"ext\"]\n",
    "    format_name=format_data[\"format\"]\n",
    "    url=format_data[\"url\"]\n",
    "    return {\n",
    "        \"extension\":extension,\n",
    "        \"format_name\":format_name,\n",
    "        \"url\":url,\n",
    "    }\n",
    "def extract_video_data_from_url(url):\n",
    "    command =f'youtube-dl \"{url}\" -j'\n",
    "    output = os.popen(command).read()\n",
    "    if str(output) == \"\":\n",
    "        print(\"not found\")\n",
    "        command =f'yt-dlp \"{url}\" -j'\n",
    "    output = os.popen(command).read()\n",
    "    video_data = json.loads(output)\n",
    "    title = video_data['title']\n",
    "    formats = video_data['formats']\n",
    "    thumbnails = video_data['thumbnails']\n",
    "    formats = [extract_format_data(format_data) for format_data in formats]\n",
    "    return {\n",
    "        \"title\":title,\n",
    "        \"formats\":formats,\n",
    "        \"thumbnails\":thumbnails\n",
    "    }"
   ]
  },
  {
   "cell_type": "code",
   "execution_count": 22,
   "metadata": {},
   "outputs": [
    {
     "name": "stdout",
     "output_type": "stream",
     "text": [
      "not found\n"
     ]
    },
    {
     "ename": "JSONDecodeError",
     "evalue": "Expecting value: line 1 column 1 (char 0)",
     "output_type": "error",
     "traceback": [
      "\u001b[1;31m---------------------------------------------------------------------------\u001b[0m",
      "\u001b[1;31mJSONDecodeError\u001b[0m                           Traceback (most recent call last)",
      "Cell \u001b[1;32mIn[22], line 1\u001b[0m\n\u001b[1;32m----> 1\u001b[0m \u001b[43mextract_video_data_from_url\u001b[49m\u001b[43m(\u001b[49m\u001b[38;5;124;43m\"\u001b[39;49m\u001b[38;5;124;43mhttps://www.youtube.com/watch?v=go_yxW2C-UM&t=2742s\u001b[39;49m\u001b[38;5;124;43m\"\u001b[39;49m\u001b[43m)\u001b[49m\n",
      "Cell \u001b[1;32mIn[21], line 17\u001b[0m, in \u001b[0;36mextract_video_data_from_url\u001b[1;34m(url)\u001b[0m\n\u001b[0;32m     15\u001b[0m     command \u001b[38;5;241m=\u001b[39m\u001b[38;5;124mf\u001b[39m\u001b[38;5;124m'\u001b[39m\u001b[38;5;124myt-dlp \u001b[39m\u001b[38;5;124m\"\u001b[39m\u001b[38;5;132;01m{\u001b[39;00murl\u001b[38;5;132;01m}\u001b[39;00m\u001b[38;5;124m\"\u001b[39m\u001b[38;5;124m -j\u001b[39m\u001b[38;5;124m'\u001b[39m\n\u001b[0;32m     16\u001b[0m output \u001b[38;5;241m=\u001b[39m os\u001b[38;5;241m.\u001b[39mpopen(command)\u001b[38;5;241m.\u001b[39mread()\n\u001b[1;32m---> 17\u001b[0m video_data \u001b[38;5;241m=\u001b[39m \u001b[43mjson\u001b[49m\u001b[38;5;241;43m.\u001b[39;49m\u001b[43mloads\u001b[49m\u001b[43m(\u001b[49m\u001b[43moutput\u001b[49m\u001b[43m)\u001b[49m\n\u001b[0;32m     18\u001b[0m title \u001b[38;5;241m=\u001b[39m video_data[\u001b[38;5;124m'\u001b[39m\u001b[38;5;124mtitle\u001b[39m\u001b[38;5;124m'\u001b[39m]\n\u001b[0;32m     19\u001b[0m formats \u001b[38;5;241m=\u001b[39m video_data[\u001b[38;5;124m'\u001b[39m\u001b[38;5;124mformats\u001b[39m\u001b[38;5;124m'\u001b[39m]\n",
      "File \u001b[1;32m~\\AppData\\Local\\Programs\\Python\\Python312\\Lib\\json\\__init__.py:346\u001b[0m, in \u001b[0;36mloads\u001b[1;34m(s, cls, object_hook, parse_float, parse_int, parse_constant, object_pairs_hook, **kw)\u001b[0m\n\u001b[0;32m    341\u001b[0m     s \u001b[38;5;241m=\u001b[39m s\u001b[38;5;241m.\u001b[39mdecode(detect_encoding(s), \u001b[38;5;124m'\u001b[39m\u001b[38;5;124msurrogatepass\u001b[39m\u001b[38;5;124m'\u001b[39m)\n\u001b[0;32m    343\u001b[0m \u001b[38;5;28;01mif\u001b[39;00m (\u001b[38;5;28mcls\u001b[39m \u001b[38;5;129;01mis\u001b[39;00m \u001b[38;5;28;01mNone\u001b[39;00m \u001b[38;5;129;01mand\u001b[39;00m object_hook \u001b[38;5;129;01mis\u001b[39;00m \u001b[38;5;28;01mNone\u001b[39;00m \u001b[38;5;129;01mand\u001b[39;00m\n\u001b[0;32m    344\u001b[0m         parse_int \u001b[38;5;129;01mis\u001b[39;00m \u001b[38;5;28;01mNone\u001b[39;00m \u001b[38;5;129;01mand\u001b[39;00m parse_float \u001b[38;5;129;01mis\u001b[39;00m \u001b[38;5;28;01mNone\u001b[39;00m \u001b[38;5;129;01mand\u001b[39;00m\n\u001b[0;32m    345\u001b[0m         parse_constant \u001b[38;5;129;01mis\u001b[39;00m \u001b[38;5;28;01mNone\u001b[39;00m \u001b[38;5;129;01mand\u001b[39;00m object_pairs_hook \u001b[38;5;129;01mis\u001b[39;00m \u001b[38;5;28;01mNone\u001b[39;00m \u001b[38;5;129;01mand\u001b[39;00m \u001b[38;5;129;01mnot\u001b[39;00m kw):\n\u001b[1;32m--> 346\u001b[0m     \u001b[38;5;28;01mreturn\u001b[39;00m \u001b[43m_default_decoder\u001b[49m\u001b[38;5;241;43m.\u001b[39;49m\u001b[43mdecode\u001b[49m\u001b[43m(\u001b[49m\u001b[43ms\u001b[49m\u001b[43m)\u001b[49m\n\u001b[0;32m    347\u001b[0m \u001b[38;5;28;01mif\u001b[39;00m \u001b[38;5;28mcls\u001b[39m \u001b[38;5;129;01mis\u001b[39;00m \u001b[38;5;28;01mNone\u001b[39;00m:\n\u001b[0;32m    348\u001b[0m     \u001b[38;5;28mcls\u001b[39m \u001b[38;5;241m=\u001b[39m JSONDecoder\n",
      "File \u001b[1;32m~\\AppData\\Local\\Programs\\Python\\Python312\\Lib\\json\\decoder.py:337\u001b[0m, in \u001b[0;36mJSONDecoder.decode\u001b[1;34m(self, s, _w)\u001b[0m\n\u001b[0;32m    332\u001b[0m \u001b[38;5;28;01mdef\u001b[39;00m \u001b[38;5;21mdecode\u001b[39m(\u001b[38;5;28mself\u001b[39m, s, _w\u001b[38;5;241m=\u001b[39mWHITESPACE\u001b[38;5;241m.\u001b[39mmatch):\n\u001b[0;32m    333\u001b[0m \u001b[38;5;250m    \u001b[39m\u001b[38;5;124;03m\"\"\"Return the Python representation of ``s`` (a ``str`` instance\u001b[39;00m\n\u001b[0;32m    334\u001b[0m \u001b[38;5;124;03m    containing a JSON document).\u001b[39;00m\n\u001b[0;32m    335\u001b[0m \n\u001b[0;32m    336\u001b[0m \u001b[38;5;124;03m    \"\"\"\u001b[39;00m\n\u001b[1;32m--> 337\u001b[0m     obj, end \u001b[38;5;241m=\u001b[39m \u001b[38;5;28;43mself\u001b[39;49m\u001b[38;5;241;43m.\u001b[39;49m\u001b[43mraw_decode\u001b[49m\u001b[43m(\u001b[49m\u001b[43ms\u001b[49m\u001b[43m,\u001b[49m\u001b[43m \u001b[49m\u001b[43midx\u001b[49m\u001b[38;5;241;43m=\u001b[39;49m\u001b[43m_w\u001b[49m\u001b[43m(\u001b[49m\u001b[43ms\u001b[49m\u001b[43m,\u001b[49m\u001b[43m \u001b[49m\u001b[38;5;241;43m0\u001b[39;49m\u001b[43m)\u001b[49m\u001b[38;5;241;43m.\u001b[39;49m\u001b[43mend\u001b[49m\u001b[43m(\u001b[49m\u001b[43m)\u001b[49m\u001b[43m)\u001b[49m\n\u001b[0;32m    338\u001b[0m     end \u001b[38;5;241m=\u001b[39m _w(s, end)\u001b[38;5;241m.\u001b[39mend()\n\u001b[0;32m    339\u001b[0m     \u001b[38;5;28;01mif\u001b[39;00m end \u001b[38;5;241m!=\u001b[39m \u001b[38;5;28mlen\u001b[39m(s):\n",
      "File \u001b[1;32m~\\AppData\\Local\\Programs\\Python\\Python312\\Lib\\json\\decoder.py:355\u001b[0m, in \u001b[0;36mJSONDecoder.raw_decode\u001b[1;34m(self, s, idx)\u001b[0m\n\u001b[0;32m    353\u001b[0m     obj, end \u001b[38;5;241m=\u001b[39m \u001b[38;5;28mself\u001b[39m\u001b[38;5;241m.\u001b[39mscan_once(s, idx)\n\u001b[0;32m    354\u001b[0m \u001b[38;5;28;01mexcept\u001b[39;00m \u001b[38;5;167;01mStopIteration\u001b[39;00m \u001b[38;5;28;01mas\u001b[39;00m err:\n\u001b[1;32m--> 355\u001b[0m     \u001b[38;5;28;01mraise\u001b[39;00m JSONDecodeError(\u001b[38;5;124m\"\u001b[39m\u001b[38;5;124mExpecting value\u001b[39m\u001b[38;5;124m\"\u001b[39m, s, err\u001b[38;5;241m.\u001b[39mvalue) \u001b[38;5;28;01mfrom\u001b[39;00m \u001b[38;5;28;01mNone\u001b[39;00m\n\u001b[0;32m    356\u001b[0m \u001b[38;5;28;01mreturn\u001b[39;00m obj, end\n",
      "\u001b[1;31mJSONDecodeError\u001b[0m: Expecting value: line 1 column 1 (char 0)"
     ]
    }
   ],
   "source": [
    "extract_video_data_from_url(\"https://www.youtube.com/watch?v=go_yxW2C-UM&t=2742s\")"
   ]
  },
  {
   "cell_type": "code",
   "execution_count": 65,
   "metadata": {},
   "outputs": [],
   "source": [
    "def extract_format_data(format_data):\n",
    "    extension = format_data[\"ext\"]\n",
    "    format_name=format_data[\"format\"]\n",
    "    url=format_data[\"url\"]\n",
    "    return {\n",
    "        \"extension\":extension,\n",
    "        \"format_name\":format_name,\n",
    "        \"url\":url,\n",
    "    }"
   ]
  },
  {
   "cell_type": "code",
   "execution_count": 66,
   "metadata": {},
   "outputs": [
    {
     "data": {
      "text/plain": [
       "{'extension': 'mhtml',\n",
       " 'format_name': 'sb0 - 160x90 (storyboard)',\n",
       " 'url': 'https://i.ytimg.com/sb/NBuED2PivbY/storyboard3_L2/M$M.jpg?sqp=-oaymwENSDfyq4qpAwVwAcABBqLzl_8DBgjsvuuLBg==&sigh=rs$AOn4CLBycQcsbzPx487IwWoktipj7U4BgQ'}"
      ]
     },
     "execution_count": 66,
     "metadata": {},
     "output_type": "execute_result"
    }
   ],
   "source": [
    "extract_format_data(formats[2])"
   ]
  },
  {
   "cell_type": "code",
   "execution_count": 68,
   "metadata": {},
   "outputs": [
    {
     "data": {
      "text/plain": [
       "[{'extension': 'mhtml',\n",
       "  'format_name': 'sb2 - 48x27 (storyboard)',\n",
       "  'url': 'https://i.ytimg.com/sb/NBuED2PivbY/storyboard3_L0/default.jpg?sqp=-oaymwENSDfyq4qpAwVwAcABBqLzl_8DBgjsvuuLBg==&sigh=rs$AOn4CLCyHwBsVr2NOBPWFxhwR-k0oEgM3A'},\n",
       " {'extension': 'mhtml',\n",
       "  'format_name': 'sb1 - 80x45 (storyboard)',\n",
       "  'url': 'https://i.ytimg.com/sb/NBuED2PivbY/storyboard3_L1/M$M.jpg?sqp=-oaymwENSDfyq4qpAwVwAcABBqLzl_8DBgjsvuuLBg==&sigh=rs$AOn4CLD6I2vAQIilS7YEhoMPlAvDRPBMFQ'},\n",
       " {'extension': 'mhtml',\n",
       "  'format_name': 'sb0 - 160x90 (storyboard)',\n",
       "  'url': 'https://i.ytimg.com/sb/NBuED2PivbY/storyboard3_L2/M$M.jpg?sqp=-oaymwENSDfyq4qpAwVwAcABBqLzl_8DBgjsvuuLBg==&sigh=rs$AOn4CLBycQcsbzPx487IwWoktipj7U4BgQ'},\n",
       " {'extension': 'mp4',\n",
       "  'format_name': '233 - audio only (Default)',\n",
       "  'url': 'https://manifest.googlevideo.com/api/manifest/hls_playlist/expire/1728734731/ei/qxEKZ_bZH_-_mLAP9eedAQ/ip/156.209.173.224/id/341b840f63e2bdb6/itag/233/source/youtube/requiressl/yes/ratebypass/yes/pfa/1/goi/133/sgoap/clen%3D13708109%3Bdur%3D2247.877%3Bgir%3Dyes%3Bitag%3D139%3Blmt%3D1635525810141598/rqh/1/hls_chunk_host/rr6---sn-uxaxjvhxbt2u-xhte.googlevideo.com/xpc/EgVo2aDSNQ%3D%3D/met/1728713131,/mh/X0/mm/31,29/mn/sn-uxaxjvhxbt2u-xhte,sn-hgn7yn7l/ms/au,rdu/mv/m/mvi/6/pl/19/rms/au,au/initcwndbps/363750/vprv/1/playlist_type/DVR/dover/13/txp/5432434/mt/1728712610/fvip/3/short_key/1/keepalive/yes/fexp/51300761/sparams/expire,ei,ip,id,itag,source,requiressl,ratebypass,pfa,goi,sgoap,rqh,xpc,vprv,playlist_type/sig/AJfQdSswRgIhAK9Go65tXS2RazhndAUmeWPiltsVPehfKw__6RCpthq8AiEAvVsPhTJDqRg2-gNY3H64sGQ8I86YpYDlsWYfaF7xV0g%3D/lsparams/hls_chunk_host,met,mh,mm,mn,ms,mv,mvi,pl,rms,initcwndbps/lsig/ACJ0pHgwRQIgMCe4AE4v3B1ComRDGyv58auBppkz8wxpxmGjnpXWva0CIQDCxrCTJZYzokzifP4z6V-kIml6lOpvzWDe5uSkFncZpQ%3D%3D/playlist/index.m3u8'},\n",
       " {'extension': 'mp4',\n",
       "  'format_name': '234 - audio only (Default)',\n",
       "  'url': 'https://manifest.googlevideo.com/api/manifest/hls_playlist/expire/1728734731/ei/qxEKZ_bZH_-_mLAP9eedAQ/ip/156.209.173.224/id/341b840f63e2bdb6/itag/234/source/youtube/requiressl/yes/ratebypass/yes/pfa/1/goi/133/sgoap/clen%3D36379111%3Bdur%3D2247.807%3Bgir%3Dyes%3Bitag%3D140%3Blmt%3D1635525810240567/rqh/1/hls_chunk_host/rr6---sn-uxaxjvhxbt2u-xhte.googlevideo.com/xpc/EgVo2aDSNQ%3D%3D/met/1728713131,/mh/X0/mm/31,29/mn/sn-uxaxjvhxbt2u-xhte,sn-hgn7yn7l/ms/au,rdu/mv/m/mvi/6/pl/19/rms/au,au/initcwndbps/363750/vprv/1/playlist_type/DVR/dover/13/txp/5432434/mt/1728712610/fvip/3/short_key/1/keepalive/yes/fexp/51300761/sparams/expire,ei,ip,id,itag,source,requiressl,ratebypass,pfa,goi,sgoap,rqh,xpc,vprv,playlist_type/sig/AJfQdSswRgIhAPXPICyqF2-_Knr2Cin9qQfywbfC2jZm1q3nIFqVpT6OAiEAzSSlWBP_uiG62KQ0D-TYO2qB9Msv4vt-AH_sH_1Exy0%3D/lsparams/hls_chunk_host,met,mh,mm,mn,ms,mv,mvi,pl,rms,initcwndbps/lsig/ACJ0pHgwRgIhAMlZdfdphMGUQRKqnyi_SiHc3QjnJrl6WPPsN0EnDS-yAiEA0Dv1eF77wlwKk83rqW-rHDxGzLsCu7eP7Rv5eZERsec%3D/playlist/index.m3u8'},\n",
       " {'extension': 'm4a',\n",
       "  'format_name': '599 - audio only (ultralow)',\n",
       "  'url': 'https://rr6---sn-uxaxjvhxbt2u-xhte.googlevideo.com/videoplayback?expire=1728734731&ei=qxEKZ57UKa-4mLAPpuSioQ8&ip=156.209.173.224&id=o-AGt2Htbp-GH0VJPNYgFwALK-tF3T_TL65cwGDs_vBZJd&itag=599&source=youtube&requiressl=yes&xpc=EgVo2aDSNQ%3D%3D&met=1728713131%2C&mh=X0&mm=31%2C29&mn=sn-uxaxjvhxbt2u-xhte%2Csn-hgn7yn7l&ms=au%2Crdu&mv=m&mvi=6&pl=19&rms=au%2Cau&initcwndbps=363750&bui=AXLXGFTFKhnmDpv8mpoi-Mb0YdCcmg2YY5r07VN8NXJV2o__tO6gVjNCI1PufOpO8jgFdCtcXEe3K1G_&spc=54MbxSHi9gn1jR5RQTo818pjJ8XNHSIIEVelzkAbNatWBWvw-9pN3GkZwQ&vprv=1&svpuc=1&mime=audio%2Fmp4&ns=H6OWOOaqUIkqWcdS58wTQtcQ&rqh=1&gir=yes&clen=8650678&dur=2247.877&lmt=1635525610021402&mt=1728712610&fvip=3&keepalive=yes&fexp=51300761&c=MWEB&sefc=1&txp=5432434&n=5rXrgaDor9hHgg&sparams=expire%2Cei%2Cip%2Cid%2Citag%2Csource%2Crequiressl%2Cxpc%2Cbui%2Cspc%2Cvprv%2Csvpuc%2Cmime%2Cns%2Crqh%2Cgir%2Cclen%2Cdur%2Clmt&sig=AJfQdSswRQIgWhvXSzCAMryN-PWXIjc16EwTpv03fZnqOlHfriIzHFACIQDHNP9qwnGKoNpsaU7DHEY9-B2r3n76WKyKGyFGvXxt6A%3D%3D&lsparams=met%2Cmh%2Cmm%2Cmn%2Cms%2Cmv%2Cmvi%2Cpl%2Crms%2Cinitcwndbps&lsig=ACJ0pHgwRgIhANOZ58jFVRVJrYVtNMb5GQxaQnu6u6NlYdHPO4n7TUJ0AiEAklw_rkj687NUBf1GVLdP8zCoPEF9T5KhLB7yJ9hqGe0%3D'},\n",
       " {'extension': 'webm',\n",
       "  'format_name': '600 - audio only (ultralow)',\n",
       "  'url': 'https://rr6---sn-uxaxjvhxbt2u-xhte.googlevideo.com/videoplayback?expire=1728734731&ei=qxEKZ57UKa-4mLAPpuSioQ8&ip=156.209.173.224&id=o-AGt2Htbp-GH0VJPNYgFwALK-tF3T_TL65cwGDs_vBZJd&itag=600&source=youtube&requiressl=yes&xpc=EgVo2aDSNQ%3D%3D&met=1728713131%2C&mh=X0&mm=31%2C29&mn=sn-uxaxjvhxbt2u-xhte%2Csn-hgn7yn7l&ms=au%2Crdu&mv=m&mvi=6&pl=19&rms=au%2Cau&initcwndbps=363750&bui=AXLXGFTFKhnmDpv8mpoi-Mb0YdCcmg2YY5r07VN8NXJV2o__tO6gVjNCI1PufOpO8jgFdCtcXEe3K1G_&spc=54MbxSHi9gn1jR5RQTo818pjJ8XNHSIIEVelzkAbNatWBWvw-9pN3GkZwQ&vprv=1&svpuc=1&mime=audio%2Fwebm&ns=H6OWOOaqUIkqWcdS58wTQtcQ&rqh=1&gir=yes&clen=9647063&dur=2247.781&lmt=1635525928358567&mt=1728712610&fvip=3&keepalive=yes&fexp=51300761&c=MWEB&sefc=1&txp=5432434&n=5rXrgaDor9hHgg&sparams=expire%2Cei%2Cip%2Cid%2Citag%2Csource%2Crequiressl%2Cxpc%2Cbui%2Cspc%2Cvprv%2Csvpuc%2Cmime%2Cns%2Crqh%2Cgir%2Cclen%2Cdur%2Clmt&sig=AJfQdSswRQIhAJH4HDqtbI2kqkwnDUzqdJEsQuDXG5sAl48P2p03mjXqAiBsOn4etaszsB8WrFz4hwrbhyBay2TssbriqynJK0bwxg%3D%3D&lsparams=met%2Cmh%2Cmm%2Cmn%2Cms%2Cmv%2Cmvi%2Cpl%2Crms%2Cinitcwndbps&lsig=ACJ0pHgwRgIhANOZ58jFVRVJrYVtNMb5GQxaQnu6u6NlYdHPO4n7TUJ0AiEAklw_rkj687NUBf1GVLdP8zCoPEF9T5KhLB7yJ9hqGe0%3D'},\n",
       " {'extension': 'm4a',\n",
       "  'format_name': '139-drc - audio only (low, DRC)',\n",
       "  'url': 'https://rr6---sn-uxaxjvhxbt2u-xhte.googlevideo.com/videoplayback?expire=1728734731&ei=qxEKZ_bZH_-_mLAP9eedAQ&ip=156.209.173.224&id=o-ABiwGs0GUhtumyVHJSI9T2R4lD4_-kGK6Z46-fIh8VxQ&itag=139&source=youtube&requiressl=yes&xpc=EgVo2aDSNQ%3D%3D&met=1728713131%2C&mh=X0&mm=31%2C29&mn=sn-uxaxjvhxbt2u-xhte%2Csn-hgn7yn7l&ms=au%2Crdu&mv=m&mvi=6&pl=19&rms=au%2Cau&initcwndbps=363750&vprv=1&svpuc=1&xtags=drc%3D1&mime=audio%2Fmp4&rqh=1&gir=yes&clen=13708368&dur=2247.877&lmt=1656156449245201&mt=1728712610&fvip=3&keepalive=yes&fexp=51300761&c=IOS&txp=5432434&sparams=expire%2Cei%2Cip%2Cid%2Citag%2Csource%2Crequiressl%2Cxpc%2Cvprv%2Csvpuc%2Cxtags%2Cmime%2Crqh%2Cgir%2Cclen%2Cdur%2Clmt&sig=AJfQdSswRQIgGqxtTgsxVXcO5EVTUp2FeGu_pJhRX8zOn4ndCWrR8JICIQDJaaQd4H4lr1JXaLOIgOsjvkuoCUUBvb9bYfZzcU26zw%3D%3D&lsparams=met%2Cmh%2Cmm%2Cmn%2Cms%2Cmv%2Cmvi%2Cpl%2Crms%2Cinitcwndbps&lsig=ACJ0pHgwRAIgQDXTjulQ-uYTSxGc9dkoVMICNuCKkbJAdxt4CewqoakCIG6QPtO5MacqXDz_h8N8gfNYF81SItVTQIUZRw8OGZss'},\n",
       " {'extension': 'webm',\n",
       "  'format_name': '249-drc - audio only (low, DRC)',\n",
       "  'url': 'https://rr6---sn-uxaxjvhxbt2u-xhte.googlevideo.com/videoplayback?expire=1728734731&ei=qxEKZ_bZH_-_mLAP9eedAQ&ip=156.209.173.224&id=o-ABiwGs0GUhtumyVHJSI9T2R4lD4_-kGK6Z46-fIh8VxQ&itag=249&source=youtube&requiressl=yes&xpc=EgVo2aDSNQ%3D%3D&met=1728713131%2C&mh=X0&mm=31%2C29&mn=sn-uxaxjvhxbt2u-xhte%2Csn-hgn7yn7l&ms=au%2Crdu&mv=m&mvi=6&pl=19&rms=au%2Cau&initcwndbps=363750&vprv=1&svpuc=1&xtags=drc%3D1&mime=audio%2Fwebm&rqh=1&gir=yes&clen=14212292&dur=2247.781&lmt=1656156821582054&mt=1728712610&fvip=3&keepalive=yes&fexp=51300761&c=IOS&txp=5432434&sparams=expire%2Cei%2Cip%2Cid%2Citag%2Csource%2Crequiressl%2Cxpc%2Cvprv%2Csvpuc%2Cxtags%2Cmime%2Crqh%2Cgir%2Cclen%2Cdur%2Clmt&sig=AJfQdSswRQIgMP-GgNf9ejq8R57u0l27vvgtO_CY6oNzSFRCpUdPt0ACIQCFdi7wQyHkDbLkpotPbQ4Q1dtIG_A9WiHJ4By4ytUx3Q%3D%3D&lsparams=met%2Cmh%2Cmm%2Cmn%2Cms%2Cmv%2Cmvi%2Cpl%2Crms%2Cinitcwndbps&lsig=ACJ0pHgwRAIgQDXTjulQ-uYTSxGc9dkoVMICNuCKkbJAdxt4CewqoakCIG6QPtO5MacqXDz_h8N8gfNYF81SItVTQIUZRw8OGZss'},\n",
       " {'extension': 'webm',\n",
       "  'format_name': '250-drc - audio only (low, DRC)',\n",
       "  'url': 'https://rr6---sn-uxaxjvhxbt2u-xhte.googlevideo.com/videoplayback?expire=1728734731&ei=qxEKZ_bZH_-_mLAP9eedAQ&ip=156.209.173.224&id=o-ABiwGs0GUhtumyVHJSI9T2R4lD4_-kGK6Z46-fIh8VxQ&itag=250&source=youtube&requiressl=yes&xpc=EgVo2aDSNQ%3D%3D&met=1728713131%2C&mh=X0&mm=31%2C29&mn=sn-uxaxjvhxbt2u-xhte%2Csn-hgn7yn7l&ms=au%2Crdu&mv=m&mvi=6&pl=19&rms=au%2Cau&initcwndbps=363750&vprv=1&svpuc=1&xtags=drc%3D1&mime=audio%2Fwebm&rqh=1&gir=yes&clen=19831410&dur=2247.781&lmt=1656156821589031&mt=1728712610&fvip=3&keepalive=yes&fexp=51300761&c=IOS&txp=5432434&sparams=expire%2Cei%2Cip%2Cid%2Citag%2Csource%2Crequiressl%2Cxpc%2Cvprv%2Csvpuc%2Cxtags%2Cmime%2Crqh%2Cgir%2Cclen%2Cdur%2Clmt&sig=AJfQdSswRgIhALf_GhaqzOiyyiC0El5-_QeHC4ttjkYHrkFYEHAPVZ40AiEA2WENCIM6ATeF7o4mw6GXCLPNj6-odjQWMkp9H2lGaaM%3D&lsparams=met%2Cmh%2Cmm%2Cmn%2Cms%2Cmv%2Cmvi%2Cpl%2Crms%2Cinitcwndbps&lsig=ACJ0pHgwRAIgQDXTjulQ-uYTSxGc9dkoVMICNuCKkbJAdxt4CewqoakCIG6QPtO5MacqXDz_h8N8gfNYF81SItVTQIUZRw8OGZss'},\n",
       " {'extension': 'm4a',\n",
       "  'format_name': '139 - audio only (low)',\n",
       "  'url': 'https://rr6---sn-uxaxjvhxbt2u-xhte.googlevideo.com/videoplayback?expire=1728734731&ei=qxEKZ_bZH_-_mLAP9eedAQ&ip=156.209.173.224&id=o-ABiwGs0GUhtumyVHJSI9T2R4lD4_-kGK6Z46-fIh8VxQ&itag=139&source=youtube&requiressl=yes&xpc=EgVo2aDSNQ%3D%3D&met=1728713131%2C&mh=X0&mm=31%2C29&mn=sn-uxaxjvhxbt2u-xhte%2Csn-hgn7yn7l&ms=au%2Crdu&mv=m&mvi=6&pl=19&rms=au%2Cau&initcwndbps=363750&vprv=1&svpuc=1&mime=audio%2Fmp4&rqh=1&gir=yes&clen=13708109&dur=2247.877&lmt=1635525810141598&mt=1728712610&fvip=3&keepalive=yes&fexp=51300761&c=IOS&txp=5432434&sparams=expire%2Cei%2Cip%2Cid%2Citag%2Csource%2Crequiressl%2Cxpc%2Cvprv%2Csvpuc%2Cmime%2Crqh%2Cgir%2Cclen%2Cdur%2Clmt&sig=AJfQdSswRgIhAICcWDj5wqKfzvyngQY4Tstvdt22MqNQXVtxGodB7GfaAiEA8aM1bqV2HkJ07g24PrVEzbpNv-IDtN-zjUoVxVSFqPM%3D&lsparams=met%2Cmh%2Cmm%2Cmn%2Cms%2Cmv%2Cmvi%2Cpl%2Crms%2Cinitcwndbps&lsig=ACJ0pHgwRAIgQDXTjulQ-uYTSxGc9dkoVMICNuCKkbJAdxt4CewqoakCIG6QPtO5MacqXDz_h8N8gfNYF81SItVTQIUZRw8OGZss'},\n",
       " {'extension': 'webm',\n",
       "  'format_name': '249 - audio only (low)',\n",
       "  'url': 'https://rr6---sn-uxaxjvhxbt2u-xhte.googlevideo.com/videoplayback?expire=1728734731&ei=qxEKZ_bZH_-_mLAP9eedAQ&ip=156.209.173.224&id=o-ABiwGs0GUhtumyVHJSI9T2R4lD4_-kGK6Z46-fIh8VxQ&itag=249&source=youtube&requiressl=yes&xpc=EgVo2aDSNQ%3D%3D&met=1728713131%2C&mh=X0&mm=31%2C29&mn=sn-uxaxjvhxbt2u-xhte%2Csn-hgn7yn7l&ms=au%2Crdu&mv=m&mvi=6&pl=19&rms=au%2Cau&initcwndbps=363750&vprv=1&svpuc=1&mime=audio%2Fwebm&rqh=1&gir=yes&clen=14052227&dur=2247.781&lmt=1635525928359025&mt=1728712610&fvip=3&keepalive=yes&fexp=51300761&c=IOS&txp=5432434&sparams=expire%2Cei%2Cip%2Cid%2Citag%2Csource%2Crequiressl%2Cxpc%2Cvprv%2Csvpuc%2Cmime%2Crqh%2Cgir%2Cclen%2Cdur%2Clmt&sig=AJfQdSswRQIhAPBJq-Ui1kp1wYemJi9-pZf8Mo-ZYqL-J4gdVfIp2kKHAiB_lyX6_jHXaSUJ28740vzs9ovlDvGm0c6-a0mOQeblOw%3D%3D&lsparams=met%2Cmh%2Cmm%2Cmn%2Cms%2Cmv%2Cmvi%2Cpl%2Crms%2Cinitcwndbps&lsig=ACJ0pHgwRAIgQDXTjulQ-uYTSxGc9dkoVMICNuCKkbJAdxt4CewqoakCIG6QPtO5MacqXDz_h8N8gfNYF81SItVTQIUZRw8OGZss'},\n",
       " {'extension': 'webm',\n",
       "  'format_name': '250 - audio only (low)',\n",
       "  'url': 'https://rr6---sn-uxaxjvhxbt2u-xhte.googlevideo.com/videoplayback?expire=1728734731&ei=qxEKZ_bZH_-_mLAP9eedAQ&ip=156.209.173.224&id=o-ABiwGs0GUhtumyVHJSI9T2R4lD4_-kGK6Z46-fIh8VxQ&itag=250&source=youtube&requiressl=yes&xpc=EgVo2aDSNQ%3D%3D&met=1728713131%2C&mh=X0&mm=31%2C29&mn=sn-uxaxjvhxbt2u-xhte%2Csn-hgn7yn7l&ms=au%2Crdu&mv=m&mvi=6&pl=19&rms=au%2Cau&initcwndbps=363750&vprv=1&svpuc=1&mime=audio%2Fwebm&rqh=1&gir=yes&clen=19885862&dur=2247.781&lmt=1635525928369112&mt=1728712610&fvip=3&keepalive=yes&fexp=51300761&c=IOS&txp=5432434&sparams=expire%2Cei%2Cip%2Cid%2Citag%2Csource%2Crequiressl%2Cxpc%2Cvprv%2Csvpuc%2Cmime%2Crqh%2Cgir%2Cclen%2Cdur%2Clmt&sig=AJfQdSswRgIhAKXqcusQCEc6bFnkTeo9bAckXR7tDYXcWZVVyUXktMG_AiEAne7LwTfMCxvrH_XuvxbeaiePy-rSmzqNXBN1ui3k9eQ%3D&lsparams=met%2Cmh%2Cmm%2Cmn%2Cms%2Cmv%2Cmvi%2Cpl%2Crms%2Cinitcwndbps&lsig=ACJ0pHgwRAIgQDXTjulQ-uYTSxGc9dkoVMICNuCKkbJAdxt4CewqoakCIG6QPtO5MacqXDz_h8N8gfNYF81SItVTQIUZRw8OGZss'},\n",
       " {'extension': 'm4a',\n",
       "  'format_name': '140-drc - audio only (medium, DRC)',\n",
       "  'url': 'https://rr6---sn-uxaxjvhxbt2u-xhte.googlevideo.com/videoplayback?expire=1728734731&ei=qxEKZ_bZH_-_mLAP9eedAQ&ip=156.209.173.224&id=o-ABiwGs0GUhtumyVHJSI9T2R4lD4_-kGK6Z46-fIh8VxQ&itag=140&source=youtube&requiressl=yes&xpc=EgVo2aDSNQ%3D%3D&met=1728713131%2C&mh=X0&mm=31%2C29&mn=sn-uxaxjvhxbt2u-xhte%2Csn-hgn7yn7l&ms=au%2Crdu&mv=m&mvi=6&pl=19&rms=au%2Cau&initcwndbps=363750&vprv=1&svpuc=1&xtags=drc%3D1&mime=audio%2Fmp4&rqh=1&gir=yes&clen=36379465&dur=2247.807&lmt=1656156449352459&mt=1728712610&fvip=3&keepalive=yes&fexp=51300761&c=IOS&txp=5432434&sparams=expire%2Cei%2Cip%2Cid%2Citag%2Csource%2Crequiressl%2Cxpc%2Cvprv%2Csvpuc%2Cxtags%2Cmime%2Crqh%2Cgir%2Cclen%2Cdur%2Clmt&sig=AJfQdSswRQIhAO756zqP9ifOuanbTxL5pyw_9pPpOdbCAnsVioFszQqAAiBXG8a05xiMK9qWYMq-Sy0rFsqdOnVue8txilXeMpq3Sw%3D%3D&lsparams=met%2Cmh%2Cmm%2Cmn%2Cms%2Cmv%2Cmvi%2Cpl%2Crms%2Cinitcwndbps&lsig=ACJ0pHgwRAIgQDXTjulQ-uYTSxGc9dkoVMICNuCKkbJAdxt4CewqoakCIG6QPtO5MacqXDz_h8N8gfNYF81SItVTQIUZRw8OGZss'},\n",
       " {'extension': 'webm',\n",
       "  'format_name': '251-drc - audio only (medium, DRC)',\n",
       "  'url': 'https://rr6---sn-uxaxjvhxbt2u-xhte.googlevideo.com/videoplayback?expire=1728734731&ei=qxEKZ_bZH_-_mLAP9eedAQ&ip=156.209.173.224&id=o-ABiwGs0GUhtumyVHJSI9T2R4lD4_-kGK6Z46-fIh8VxQ&itag=251&source=youtube&requiressl=yes&xpc=EgVo2aDSNQ%3D%3D&met=1728713131%2C&mh=X0&mm=31%2C29&mn=sn-uxaxjvhxbt2u-xhte%2Csn-hgn7yn7l&ms=au%2Crdu&mv=m&mvi=6&pl=19&rms=au%2Cau&initcwndbps=363750&vprv=1&svpuc=1&xtags=drc%3D1&mime=audio%2Fwebm&rqh=1&gir=yes&clen=35396127&dur=2247.781&lmt=1656156821586056&mt=1728712610&fvip=3&keepalive=yes&fexp=51300761&c=IOS&txp=5432434&sparams=expire%2Cei%2Cip%2Cid%2Citag%2Csource%2Crequiressl%2Cxpc%2Cvprv%2Csvpuc%2Cxtags%2Cmime%2Crqh%2Cgir%2Cclen%2Cdur%2Clmt&sig=AJfQdSswRQIhAOb3ngaKiuqOxrgoFzVUGOST6AC0qqKuReNVhaILeaCEAiAegECT1JKD23Y1WjfJMSGW3JIzO1cnT7GlgVBx73_6hQ%3D%3D&lsparams=met%2Cmh%2Cmm%2Cmn%2Cms%2Cmv%2Cmvi%2Cpl%2Crms%2Cinitcwndbps&lsig=ACJ0pHgwRAIgQDXTjulQ-uYTSxGc9dkoVMICNuCKkbJAdxt4CewqoakCIG6QPtO5MacqXDz_h8N8gfNYF81SItVTQIUZRw8OGZss'},\n",
       " {'extension': 'm4a',\n",
       "  'format_name': '140 - audio only (medium)',\n",
       "  'url': 'https://rr6---sn-uxaxjvhxbt2u-xhte.googlevideo.com/videoplayback?expire=1728734731&ei=qxEKZ_bZH_-_mLAP9eedAQ&ip=156.209.173.224&id=o-ABiwGs0GUhtumyVHJSI9T2R4lD4_-kGK6Z46-fIh8VxQ&itag=140&source=youtube&requiressl=yes&xpc=EgVo2aDSNQ%3D%3D&met=1728713131%2C&mh=X0&mm=31%2C29&mn=sn-uxaxjvhxbt2u-xhte%2Csn-hgn7yn7l&ms=au%2Crdu&mv=m&mvi=6&pl=19&rms=au%2Cau&initcwndbps=363750&vprv=1&svpuc=1&mime=audio%2Fmp4&rqh=1&gir=yes&clen=36379111&dur=2247.807&lmt=1635525810240567&mt=1728712610&fvip=3&keepalive=yes&fexp=51300761&c=IOS&txp=5432434&sparams=expire%2Cei%2Cip%2Cid%2Citag%2Csource%2Crequiressl%2Cxpc%2Cvprv%2Csvpuc%2Cmime%2Crqh%2Cgir%2Cclen%2Cdur%2Clmt&sig=AJfQdSswRQIgVPmoQywQLIKp5L-OJVMCWEMR6blP2kNVLvtCca-otkoCIQCROIKBKQ55zpEwAGb2fo3ti9SPihMy5HHFxxKubT1H_A%3D%3D&lsparams=met%2Cmh%2Cmm%2Cmn%2Cms%2Cmv%2Cmvi%2Cpl%2Crms%2Cinitcwndbps&lsig=ACJ0pHgwRAIgQDXTjulQ-uYTSxGc9dkoVMICNuCKkbJAdxt4CewqoakCIG6QPtO5MacqXDz_h8N8gfNYF81SItVTQIUZRw8OGZss'},\n",
       " {'extension': 'webm',\n",
       "  'format_name': '251 - audio only (medium)',\n",
       "  'url': 'https://rr6---sn-uxaxjvhxbt2u-xhte.googlevideo.com/videoplayback?expire=1728734731&ei=qxEKZ_bZH_-_mLAP9eedAQ&ip=156.209.173.224&id=o-ABiwGs0GUhtumyVHJSI9T2R4lD4_-kGK6Z46-fIh8VxQ&itag=251&source=youtube&requiressl=yes&xpc=EgVo2aDSNQ%3D%3D&met=1728713131%2C&mh=X0&mm=31%2C29&mn=sn-uxaxjvhxbt2u-xhte%2Csn-hgn7yn7l&ms=au%2Crdu&mv=m&mvi=6&pl=19&rms=au%2Cau&initcwndbps=363750&vprv=1&svpuc=1&mime=audio%2Fwebm&rqh=1&gir=yes&clen=35495684&dur=2247.781&lmt=1635525928367349&mt=1728712610&fvip=3&keepalive=yes&fexp=51300761&c=IOS&txp=5432434&sparams=expire%2Cei%2Cip%2Cid%2Citag%2Csource%2Crequiressl%2Cxpc%2Cvprv%2Csvpuc%2Cmime%2Crqh%2Cgir%2Cclen%2Cdur%2Clmt&sig=AJfQdSswRAIgOW__LcY8Ylgkk6KRmTMZv4ES_1lpxKcr-2cwdKnysMsCIDVe7M67_lAht74tt3G7_Q6oSSZMUZz2n1Jl1-HMVawz&lsparams=met%2Cmh%2Cmm%2Cmn%2Cms%2Cmv%2Cmvi%2Cpl%2Crms%2Cinitcwndbps&lsig=ACJ0pHgwRAIgQDXTjulQ-uYTSxGc9dkoVMICNuCKkbJAdxt4CewqoakCIG6QPtO5MacqXDz_h8N8gfNYF81SItVTQIUZRw8OGZss'},\n",
       " {'extension': 'mp4',\n",
       "  'format_name': '597 - 256x144 (144p)',\n",
       "  'url': 'https://rr6---sn-uxaxjvhxbt2u-xhte.googlevideo.com/videoplayback?expire=1728734731&ei=qxEKZ57UKa-4mLAPpuSioQ8&ip=156.209.173.224&id=o-AGt2Htbp-GH0VJPNYgFwALK-tF3T_TL65cwGDs_vBZJd&itag=597&aitags=133%2C134%2C135%2C136%2C160%2C242%2C243%2C244%2C247%2C278%2C298%2C299%2C302%2C303%2C308%2C394%2C395%2C396%2C397%2C398%2C399%2C400%2C597%2C598&source=youtube&requiressl=yes&xpc=EgVo2aDSNQ%3D%3D&met=1728713131%2C&mh=X0&mm=31%2C29&mn=sn-uxaxjvhxbt2u-xhte%2Csn-hgn7yn7l&ms=au%2Crdu&mv=m&mvi=6&pl=19&rms=au%2Cau&initcwndbps=363750&bui=AXLXGFTFKhnmDpv8mpoi-Mb0YdCcmg2YY5r07VN8NXJV2o__tO6gVjNCI1PufOpO8jgFdCtcXEe3K1G_&spc=54MbxSHi9gn1jR5RQTo818pjJ8XNHSIIEVelzkAbNatWBWvw-9pN3GkZwQ&vprv=1&svpuc=1&mime=video%2Fmp4&ns=H6OWOOaqUIkqWcdS58wTQtcQ&rqh=1&gir=yes&clen=6045104&dur=2247.733&lmt=1635526835515909&mt=1728712610&fvip=3&keepalive=yes&fexp=51300761&c=MWEB&sefc=1&txp=5432434&n=5rXrgaDor9hHgg&sparams=expire%2Cei%2Cip%2Cid%2Caitags%2Csource%2Crequiressl%2Cxpc%2Cbui%2Cspc%2Cvprv%2Csvpuc%2Cmime%2Cns%2Crqh%2Cgir%2Cclen%2Cdur%2Clmt&sig=AJfQdSswRgIhAI9DaXcwXf9D2TZMSzRaOdBiQgNy0eb_KCkmpVv_zetuAiEAk0Fde9283fbAAYlc9HBmKYY6j25M9YZXzr9OqP_EO4c%3D&lsparams=met%2Cmh%2Cmm%2Cmn%2Cms%2Cmv%2Cmvi%2Cpl%2Crms%2Cinitcwndbps&lsig=ACJ0pHgwRgIhANOZ58jFVRVJrYVtNMb5GQxaQnu6u6NlYdHPO4n7TUJ0AiEAklw_rkj687NUBf1GVLdP8zCoPEF9T5KhLB7yJ9hqGe0%3D'},\n",
       " {'extension': 'mp4',\n",
       "  'format_name': '602 - 256x144',\n",
       "  'url': 'https://manifest.googlevideo.com/api/manifest/hls_playlist/expire/1728734731/ei/qxEKZ_bZH_-_mLAP9eedAQ/ip/156.209.173.224/id/341b840f63e2bdb6/itag/602/source/youtube/requiressl/yes/ratebypass/yes/pfa/1/wft/1/sgovp/clen%3D6286465%3Bdur%3D2247.766%3Bgir%3Dyes%3Bitag%3D598%3Blmt%3D1635527039438645/rqh/1/hls_chunk_host/rr6---sn-uxaxjvhxbt2u-xhte.googlevideo.com/xpc/EgVo2aDSNQ%3D%3D/met/1728713131,/mh/X0/mm/31,29/mn/sn-uxaxjvhxbt2u-xhte,sn-hgn7yn7l/ms/au,rdu/mv/m/mvi/6/pl/19/rms/au,au/initcwndbps/363750/vprv/1/playlist_type/DVR/dover/13/txp/5432434/mt/1728712610/fvip/3/short_key/1/keepalive/yes/fexp/51300761/sparams/expire,ei,ip,id,itag,source,requiressl,ratebypass,pfa,wft,sgovp,rqh,xpc,vprv,playlist_type/sig/AJfQdSswRgIhAOeizRU2qW--ARqyRxbDaa0lJejPk4YWg_-70-L3bqCNAiEAjA_6-JPYKAqcAy_QvjsRz5erCHYkzuB6id5fWuliTRY%3D/lsparams/hls_chunk_host,met,mh,mm,mn,ms,mv,mvi,pl,rms,initcwndbps/lsig/ACJ0pHgwRgIhAO4Hge485NMtjHn9LjD9sUF_HoLJKyeuZ-aAFmvJN6TSAiEAqhtxg9pGEm6YvGmQdahIZGImJIkiC8YuK93SRlzv4GU%3D/playlist/index.m3u8'},\n",
       " {'extension': 'webm',\n",
       "  'format_name': '598 - 256x144 (144p)',\n",
       "  'url': 'https://rr6---sn-uxaxjvhxbt2u-xhte.googlevideo.com/videoplayback?expire=1728734731&ei=qxEKZ57UKa-4mLAPpuSioQ8&ip=156.209.173.224&id=o-AGt2Htbp-GH0VJPNYgFwALK-tF3T_TL65cwGDs_vBZJd&itag=598&aitags=133%2C134%2C135%2C136%2C160%2C242%2C243%2C244%2C247%2C278%2C298%2C299%2C302%2C303%2C308%2C394%2C395%2C396%2C397%2C398%2C399%2C400%2C597%2C598&source=youtube&requiressl=yes&xpc=EgVo2aDSNQ%3D%3D&met=1728713131%2C&mh=X0&mm=31%2C29&mn=sn-uxaxjvhxbt2u-xhte%2Csn-hgn7yn7l&ms=au%2Crdu&mv=m&mvi=6&pl=19&rms=au%2Cau&initcwndbps=363750&bui=AXLXGFTFKhnmDpv8mpoi-Mb0YdCcmg2YY5r07VN8NXJV2o__tO6gVjNCI1PufOpO8jgFdCtcXEe3K1G_&spc=54MbxSHi9gn1jR5RQTo818pjJ8XNHSIIEVelzkAbNatWBWvw-9pN3GkZwQ&vprv=1&svpuc=1&mime=video%2Fwebm&ns=H6OWOOaqUIkqWcdS58wTQtcQ&rqh=1&gir=yes&clen=6286465&dur=2247.766&lmt=1635527039438645&mt=1728712610&fvip=3&keepalive=yes&fexp=51300761&c=MWEB&sefc=1&txp=5432434&n=5rXrgaDor9hHgg&sparams=expire%2Cei%2Cip%2Cid%2Caitags%2Csource%2Crequiressl%2Cxpc%2Cbui%2Cspc%2Cvprv%2Csvpuc%2Cmime%2Cns%2Crqh%2Cgir%2Cclen%2Cdur%2Clmt&sig=AJfQdSswRgIhAKC6FzTC2xJN6XeFk22wlnlGHKe0JsOexqO6IOrOEOoEAiEAstsfiqObGrlE0_vPmX-70VzJmnJRPe7PTEJsrEjhPVk%3D&lsparams=met%2Cmh%2Cmm%2Cmn%2Cms%2Cmv%2Cmvi%2Cpl%2Crms%2Cinitcwndbps&lsig=ACJ0pHgwRgIhANOZ58jFVRVJrYVtNMb5GQxaQnu6u6NlYdHPO4n7TUJ0AiEAklw_rkj687NUBf1GVLdP8zCoPEF9T5KhLB7yJ9hqGe0%3D'},\n",
       " {'extension': 'mp4',\n",
       "  'format_name': '394 - 256x144 (144p)',\n",
       "  'url': 'https://rr6---sn-uxaxjvhxbt2u-xhte.googlevideo.com/videoplayback?expire=1728734731&ei=qxEKZ_bZH_-_mLAP9eedAQ&ip=156.209.173.224&id=o-ABiwGs0GUhtumyVHJSI9T2R4lD4_-kGK6Z46-fIh8VxQ&itag=394&source=youtube&requiressl=yes&xpc=EgVo2aDSNQ%3D%3D&met=1728713131%2C&mh=X0&mm=31%2C29&mn=sn-uxaxjvhxbt2u-xhte%2Csn-hgn7yn7l&ms=au%2Crdu&mv=m&mvi=6&pl=19&rms=au%2Cau&initcwndbps=363750&vprv=1&svpuc=1&mime=video%2Fmp4&rqh=1&gir=yes&clen=14334607&dur=2247.733&lmt=1636513402253801&mt=1728712610&fvip=3&keepalive=yes&fexp=51300761&c=IOS&txp=5436434&sparams=expire%2Cei%2Cip%2Cid%2Citag%2Csource%2Crequiressl%2Cxpc%2Cvprv%2Csvpuc%2Cmime%2Crqh%2Cgir%2Cclen%2Cdur%2Clmt&sig=AJfQdSswRQIgMzew6os0rMmTuLUVzxhoSkkkprE8Ch22_WcYW_rtp7cCIQDmSCsGVtaBPXmjP0TsC-TsVW6fdJ6jLjApwnXaCYVE1g%3D%3D&lsparams=met%2Cmh%2Cmm%2Cmn%2Cms%2Cmv%2Cmvi%2Cpl%2Crms%2Cinitcwndbps&lsig=ACJ0pHgwRAIgQDXTjulQ-uYTSxGc9dkoVMICNuCKkbJAdxt4CewqoakCIG6QPtO5MacqXDz_h8N8gfNYF81SItVTQIUZRw8OGZss'},\n",
       " {'extension': 'mp4',\n",
       "  'format_name': '269 - 256x144',\n",
       "  'url': 'https://manifest.googlevideo.com/api/manifest/hls_playlist/expire/1728734731/ei/qxEKZ_bZH_-_mLAP9eedAQ/ip/156.209.173.224/id/341b840f63e2bdb6/itag/269/source/youtube/requiressl/yes/ratebypass/yes/pfa/1/sgovp/clen%3D5604867%3Bdur%3D2247.733%3Bgir%3Dyes%3Bitag%3D160%3Blmt%3D1635526876009859/rqh/1/hls_chunk_host/rr6---sn-uxaxjvhxbt2u-xhte.googlevideo.com/xpc/EgVo2aDSNQ%3D%3D/met/1728713131,/mh/X0/mm/31,29/mn/sn-uxaxjvhxbt2u-xhte,sn-hgn7yn7l/ms/au,rdu/mv/m/mvi/6/pl/19/rms/au,au/initcwndbps/363750/vprv/1/playlist_type/DVR/dover/13/txp/5432434/mt/1728712610/fvip/3/short_key/1/keepalive/yes/fexp/51300761/sparams/expire,ei,ip,id,itag,source,requiressl,ratebypass,pfa,sgovp,rqh,xpc,vprv,playlist_type/sig/AJfQdSswRQIgYpCxR4-etsbk3Qx3rbxO5f2x0EKG-pqHl1_qjxK4rZsCIQDRWStNeSBUCy_mDUIiXE1wryVbvPRw_LdkSZZJv1RmhQ%3D%3D/lsparams/hls_chunk_host,met,mh,mm,mn,ms,mv,mvi,pl,rms,initcwndbps/lsig/ACJ0pHgwRAIgezo-40io0nviYYeG9IfTyUxlQw9l3st_OhYFuxiGujECIF_L4YpFFYKyC_D77qZJ7SuBXfR-BQPPTHEKeToo-S22/playlist/index.m3u8'},\n",
       " {'extension': 'mp4',\n",
       "  'format_name': '160 - 256x144 (144p)',\n",
       "  'url': 'https://rr6---sn-uxaxjvhxbt2u-xhte.googlevideo.com/videoplayback?expire=1728734731&ei=qxEKZ_bZH_-_mLAP9eedAQ&ip=156.209.173.224&id=o-ABiwGs0GUhtumyVHJSI9T2R4lD4_-kGK6Z46-fIh8VxQ&itag=160&source=youtube&requiressl=yes&xpc=EgVo2aDSNQ%3D%3D&met=1728713131%2C&mh=X0&mm=31%2C29&mn=sn-uxaxjvhxbt2u-xhte%2Csn-hgn7yn7l&ms=au%2Crdu&mv=m&mvi=6&pl=19&rms=au%2Cau&initcwndbps=363750&vprv=1&svpuc=1&mime=video%2Fmp4&rqh=1&gir=yes&clen=5604867&dur=2247.733&lmt=1635526876009859&mt=1728712610&fvip=3&keepalive=yes&fexp=51300761&c=IOS&txp=5432434&sparams=expire%2Cei%2Cip%2Cid%2Citag%2Csource%2Crequiressl%2Cxpc%2Cvprv%2Csvpuc%2Cmime%2Crqh%2Cgir%2Cclen%2Cdur%2Clmt&sig=AJfQdSswQwIgJGWV_Uck5p95WmhLXInwNu-_6fQ1gcDhBYUUkrehGaQCH0aSdXzI8GXNxq2EQQW_OTS788t6tkK0tQCnThV3O7Q%3D&lsparams=met%2Cmh%2Cmm%2Cmn%2Cms%2Cmv%2Cmvi%2Cpl%2Crms%2Cinitcwndbps&lsig=ACJ0pHgwRAIgQDXTjulQ-uYTSxGc9dkoVMICNuCKkbJAdxt4CewqoakCIG6QPtO5MacqXDz_h8N8gfNYF81SItVTQIUZRw8OGZss'},\n",
       " {'extension': 'mp4',\n",
       "  'format_name': '603 - 256x144',\n",
       "  'url': 'https://manifest.googlevideo.com/api/manifest/hls_playlist/expire/1728734731/ei/qxEKZ_bZH_-_mLAP9eedAQ/ip/156.209.173.224/id/341b840f63e2bdb6/itag/603/source/youtube/requiressl/yes/ratebypass/yes/pfa/1/wft/1/sgovp/clen%3D14459674%3Bdur%3D2247.733%3Bgir%3Dyes%3Bitag%3D278%3Blmt%3D1635527270268119/rqh/1/hls_chunk_host/rr6---sn-uxaxjvhxbt2u-xhte.googlevideo.com/xpc/EgVo2aDSNQ%3D%3D/met/1728713131,/mh/X0/mm/31,29/mn/sn-uxaxjvhxbt2u-xhte,sn-hgn7yn7l/ms/au,rdu/mv/m/mvi/6/pl/19/rms/au,au/initcwndbps/363750/vprv/1/playlist_type/DVR/dover/13/txp/5432434/mt/1728712610/fvip/3/short_key/1/keepalive/yes/fexp/51300761/sparams/expire,ei,ip,id,itag,source,requiressl,ratebypass,pfa,wft,sgovp,rqh,xpc,vprv,playlist_type/sig/AJfQdSswRQIgHjoAvQfWZD7sVctRmM-V-jId-WdoNhzkG20mx3h-oMoCIQDPaSgaTHsn2wgzxlxuGuU00BSJ1Bs5Ov5ainU6J6N5qg%3D%3D/lsparams/hls_chunk_host,met,mh,mm,mn,ms,mv,mvi,pl,rms,initcwndbps/lsig/ACJ0pHgwRQIhAMwlj6ySwb_X-RWmaC-6iLO-k7_E_PjBagrLWWNqwr7SAiB-DFDOjADrv9XqaV4D8aRZUjSOVa7h5-Rpa_6iDyBHNA%3D%3D/playlist/index.m3u8'},\n",
       " {'extension': 'webm',\n",
       "  'format_name': '278 - 256x144 (144p)',\n",
       "  'url': 'https://rr6---sn-uxaxjvhxbt2u-xhte.googlevideo.com/videoplayback?expire=1728734731&ei=qxEKZ_bZH_-_mLAP9eedAQ&ip=156.209.173.224&id=o-ABiwGs0GUhtumyVHJSI9T2R4lD4_-kGK6Z46-fIh8VxQ&itag=278&source=youtube&requiressl=yes&xpc=EgVo2aDSNQ%3D%3D&met=1728713131%2C&mh=X0&mm=31%2C29&mn=sn-uxaxjvhxbt2u-xhte%2Csn-hgn7yn7l&ms=au%2Crdu&mv=m&mvi=6&pl=19&rms=au%2Cau&initcwndbps=363750&vprv=1&svpuc=1&mime=video%2Fwebm&rqh=1&gir=yes&clen=14459674&dur=2247.733&lmt=1635527270268119&mt=1728712610&fvip=3&keepalive=yes&fexp=51300761&c=IOS&txp=5432434&sparams=expire%2Cei%2Cip%2Cid%2Citag%2Csource%2Crequiressl%2Cxpc%2Cvprv%2Csvpuc%2Cmime%2Crqh%2Cgir%2Cclen%2Cdur%2Clmt&sig=AJfQdSswRgIhAPLqRS3qe7sQVlcJpTT6Bi4rRfrUVOa_vUWiTwmomsOKAiEAqkvWarcfbDJ94FoQpRGjdexEXxILyHIeDnI0kqNOS9c%3D&lsparams=met%2Cmh%2Cmm%2Cmn%2Cms%2Cmv%2Cmvi%2Cpl%2Crms%2Cinitcwndbps&lsig=ACJ0pHgwRAIgQDXTjulQ-uYTSxGc9dkoVMICNuCKkbJAdxt4CewqoakCIG6QPtO5MacqXDz_h8N8gfNYF81SItVTQIUZRw8OGZss'},\n",
       " {'extension': 'mp4',\n",
       "  'format_name': '395 - 426x240 (240p)',\n",
       "  'url': 'https://rr6---sn-uxaxjvhxbt2u-xhte.googlevideo.com/videoplayback?expire=1728734731&ei=qxEKZ_bZH_-_mLAP9eedAQ&ip=156.209.173.224&id=o-ABiwGs0GUhtumyVHJSI9T2R4lD4_-kGK6Z46-fIh8VxQ&itag=395&source=youtube&requiressl=yes&xpc=EgVo2aDSNQ%3D%3D&met=1728713131%2C&mh=X0&mm=31%2C29&mn=sn-uxaxjvhxbt2u-xhte%2Csn-hgn7yn7l&ms=au%2Crdu&mv=m&mvi=6&pl=19&rms=au%2Cau&initcwndbps=363750&vprv=1&svpuc=1&mime=video%2Fmp4&rqh=1&gir=yes&clen=18555459&dur=2247.733&lmt=1636513421236761&mt=1728712610&fvip=3&keepalive=yes&fexp=51300761&c=IOS&txp=5436434&sparams=expire%2Cei%2Cip%2Cid%2Citag%2Csource%2Crequiressl%2Cxpc%2Cvprv%2Csvpuc%2Cmime%2Crqh%2Cgir%2Cclen%2Cdur%2Clmt&sig=AJfQdSswRAIgJzvFIQ4gzUGtZaB6NO9kxR-jzEVgO9pEs2klh6R8CSgCIFKj80tv70EibHgrUPUrnuwqqzeoRQvzUi6LEFn_BR-P&lsparams=met%2Cmh%2Cmm%2Cmn%2Cms%2Cmv%2Cmvi%2Cpl%2Crms%2Cinitcwndbps&lsig=ACJ0pHgwRAIgQDXTjulQ-uYTSxGc9dkoVMICNuCKkbJAdxt4CewqoakCIG6QPtO5MacqXDz_h8N8gfNYF81SItVTQIUZRw8OGZss'},\n",
       " {'extension': 'mp4',\n",
       "  'format_name': '229 - 426x240',\n",
       "  'url': 'https://manifest.googlevideo.com/api/manifest/hls_playlist/expire/1728734731/ei/qxEKZ_bZH_-_mLAP9eedAQ/ip/156.209.173.224/id/341b840f63e2bdb6/itag/229/source/youtube/requiressl/yes/ratebypass/yes/pfa/1/sgovp/clen%3D10626101%3Bdur%3D2247.733%3Bgir%3Dyes%3Bitag%3D133%3Blmt%3D1635526897592988/rqh/1/hls_chunk_host/rr6---sn-uxaxjvhxbt2u-xhte.googlevideo.com/xpc/EgVo2aDSNQ%3D%3D/met/1728713131,/mh/X0/mm/31,29/mn/sn-uxaxjvhxbt2u-xhte,sn-hgn7yn7l/ms/au,rdu/mv/m/mvi/6/pl/19/rms/au,au/initcwndbps/363750/vprv/1/playlist_type/DVR/dover/13/txp/5432434/mt/1728712610/fvip/3/short_key/1/keepalive/yes/fexp/51300761/sparams/expire,ei,ip,id,itag,source,requiressl,ratebypass,pfa,sgovp,rqh,xpc,vprv,playlist_type/sig/AJfQdSswRQIhAJ69-7jn-vz3ZN1vUo9Q2oKp-NsXmkxcXVd8fKbtiiMCAiA3KRfznmL6HHyw9geHsMduWTC48FjfSrBoztOXjByf7Q%3D%3D/lsparams/hls_chunk_host,met,mh,mm,mn,ms,mv,mvi,pl,rms,initcwndbps/lsig/ACJ0pHgwRAIgVGetJYKtKFXUwQVSkoxsGCB6-x-P1ksSyQqAZtLsR3QCIAnXmH_C6Ag_iN4pG-hUI55ddnl02D7kfuiGnjVW1waU/playlist/index.m3u8'},\n",
       " {'extension': 'mp4',\n",
       "  'format_name': '133 - 426x240 (240p)',\n",
       "  'url': 'https://rr6---sn-uxaxjvhxbt2u-xhte.googlevideo.com/videoplayback?expire=1728734731&ei=qxEKZ_bZH_-_mLAP9eedAQ&ip=156.209.173.224&id=o-ABiwGs0GUhtumyVHJSI9T2R4lD4_-kGK6Z46-fIh8VxQ&itag=133&source=youtube&requiressl=yes&xpc=EgVo2aDSNQ%3D%3D&met=1728713131%2C&mh=X0&mm=31%2C29&mn=sn-uxaxjvhxbt2u-xhte%2Csn-hgn7yn7l&ms=au%2Crdu&mv=m&mvi=6&pl=19&rms=au%2Cau&initcwndbps=363750&vprv=1&svpuc=1&mime=video%2Fmp4&rqh=1&gir=yes&clen=10626101&dur=2247.733&lmt=1635526897592988&mt=1728712610&fvip=3&keepalive=yes&fexp=51300761&c=IOS&txp=5432434&sparams=expire%2Cei%2Cip%2Cid%2Citag%2Csource%2Crequiressl%2Cxpc%2Cvprv%2Csvpuc%2Cmime%2Crqh%2Cgir%2Cclen%2Cdur%2Clmt&sig=AJfQdSswRQIgWEvhFngza7koxCfWHrKspjclgS3KjzHFNpuP_cNJ1QECIQDx2uTkMrzl_bOanv7AyAHzSKHd06jZ5vrmhhD14EUvnA%3D%3D&lsparams=met%2Cmh%2Cmm%2Cmn%2Cms%2Cmv%2Cmvi%2Cpl%2Crms%2Cinitcwndbps&lsig=ACJ0pHgwRAIgQDXTjulQ-uYTSxGc9dkoVMICNuCKkbJAdxt4CewqoakCIG6QPtO5MacqXDz_h8N8gfNYF81SItVTQIUZRw8OGZss'},\n",
       " {'extension': 'mp4',\n",
       "  'format_name': '604 - 426x240',\n",
       "  'url': 'https://manifest.googlevideo.com/api/manifest/hls_playlist/expire/1728734731/ei/qxEKZ_bZH_-_mLAP9eedAQ/ip/156.209.173.224/id/341b840f63e2bdb6/itag/604/source/youtube/requiressl/yes/ratebypass/yes/pfa/1/wft/1/sgovp/clen%3D16528511%3Bdur%3D2247.733%3Bgir%3Dyes%3Bitag%3D242%3Blmt%3D1635535347408432/rqh/1/hls_chunk_host/rr6---sn-uxaxjvhxbt2u-xhte.googlevideo.com/xpc/EgVo2aDSNQ%3D%3D/met/1728713131,/mh/X0/mm/31,29/mn/sn-uxaxjvhxbt2u-xhte,sn-hgn7yn7l/ms/au,rdu/mv/m/mvi/6/pl/19/rms/au,au/initcwndbps/363750/vprv/1/playlist_type/DVR/dover/13/txp/5432434/mt/1728712610/fvip/3/short_key/1/keepalive/yes/fexp/51300761/sparams/expire,ei,ip,id,itag,source,requiressl,ratebypass,pfa,wft,sgovp,rqh,xpc,vprv,playlist_type/sig/AJfQdSswRgIhAO2ok5cLviDdAgtnj1KSWTIRPpEqO8P8H3Zs-nPOuXqSAiEAgTcjY6b-uPRWj3G-qgm7BJoeBInqquGwwwXzN4Ff0Q0%3D/lsparams/hls_chunk_host,met,mh,mm,mn,ms,mv,mvi,pl,rms,initcwndbps/lsig/ACJ0pHgwRAIgauuyLOjyYDHuTW9L6cMjlx6v90NEGQ6F0KzVHGlhJcwCIFsDA6f7cn8KScH93mpyl-RILn9ZNpBkGo73nEB6qjay/playlist/index.m3u8'},\n",
       " {'extension': 'webm',\n",
       "  'format_name': '242 - 426x240 (240p)',\n",
       "  'url': 'https://rr6---sn-uxaxjvhxbt2u-xhte.googlevideo.com/videoplayback?expire=1728734731&ei=qxEKZ_bZH_-_mLAP9eedAQ&ip=156.209.173.224&id=o-ABiwGs0GUhtumyVHJSI9T2R4lD4_-kGK6Z46-fIh8VxQ&itag=242&source=youtube&requiressl=yes&xpc=EgVo2aDSNQ%3D%3D&met=1728713131%2C&mh=X0&mm=31%2C29&mn=sn-uxaxjvhxbt2u-xhte%2Csn-hgn7yn7l&ms=au%2Crdu&mv=m&mvi=6&pl=19&rms=au%2Cau&initcwndbps=363750&vprv=1&svpuc=1&mime=video%2Fwebm&rqh=1&gir=yes&clen=16528511&dur=2247.733&lmt=1635535347408432&mt=1728712610&fvip=3&keepalive=yes&fexp=51300761&c=IOS&txp=5432434&sparams=expire%2Cei%2Cip%2Cid%2Citag%2Csource%2Crequiressl%2Cxpc%2Cvprv%2Csvpuc%2Cmime%2Crqh%2Cgir%2Cclen%2Cdur%2Clmt&sig=AJfQdSswRQIgQt4OcVKqzQ5vC4LW5fQ6KtuZFkaM0hhuIeSTW6Tq1xICIQDd8dBSiospalQDe-F8w2RN59kxdKNBEXEer7LXSCyseQ%3D%3D&lsparams=met%2Cmh%2Cmm%2Cmn%2Cms%2Cmv%2Cmvi%2Cpl%2Crms%2Cinitcwndbps&lsig=ACJ0pHgwRAIgQDXTjulQ-uYTSxGc9dkoVMICNuCKkbJAdxt4CewqoakCIG6QPtO5MacqXDz_h8N8gfNYF81SItVTQIUZRw8OGZss'},\n",
       " {'extension': 'mp4',\n",
       "  'format_name': '396 - 640x360 (360p)',\n",
       "  'url': 'https://rr6---sn-uxaxjvhxbt2u-xhte.googlevideo.com/videoplayback?expire=1728734731&ei=qxEKZ_bZH_-_mLAP9eedAQ&ip=156.209.173.224&id=o-ABiwGs0GUhtumyVHJSI9T2R4lD4_-kGK6Z46-fIh8VxQ&itag=396&source=youtube&requiressl=yes&xpc=EgVo2aDSNQ%3D%3D&met=1728713131%2C&mh=X0&mm=31%2C29&mn=sn-uxaxjvhxbt2u-xhte%2Csn-hgn7yn7l&ms=au%2Crdu&mv=m&mvi=6&pl=19&rms=au%2Cau&initcwndbps=363750&vprv=1&svpuc=1&mime=video%2Fmp4&rqh=1&gir=yes&clen=34231264&dur=2247.733&lmt=1636513452059838&mt=1728712610&fvip=3&keepalive=yes&fexp=51300761&c=IOS&txp=5436434&sparams=expire%2Cei%2Cip%2Cid%2Citag%2Csource%2Crequiressl%2Cxpc%2Cvprv%2Csvpuc%2Cmime%2Crqh%2Cgir%2Cclen%2Cdur%2Clmt&sig=AJfQdSswRgIhAP_BQi__LOwFMtem8uAoWjytpuLnRa8QndNxiAmYgnQuAiEAqO6JSEcMa5PVhSA6RGFwV0_sDDpYp4PiLxk7iIXgEyU%3D&lsparams=met%2Cmh%2Cmm%2Cmn%2Cms%2Cmv%2Cmvi%2Cpl%2Crms%2Cinitcwndbps&lsig=ACJ0pHgwRAIgQDXTjulQ-uYTSxGc9dkoVMICNuCKkbJAdxt4CewqoakCIG6QPtO5MacqXDz_h8N8gfNYF81SItVTQIUZRw8OGZss'},\n",
       " {'extension': 'mp4',\n",
       "  'format_name': '230 - 640x360',\n",
       "  'url': 'https://manifest.googlevideo.com/api/manifest/hls_playlist/expire/1728734731/ei/qxEKZ_bZH_-_mLAP9eedAQ/ip/156.209.173.224/id/341b840f63e2bdb6/itag/230/source/youtube/requiressl/yes/ratebypass/yes/pfa/1/sgovp/clen%3D19184104%3Bdur%3D2247.733%3Bgir%3Dyes%3Bitag%3D134%3Blmt%3D1635526893375427/rqh/1/hls_chunk_host/rr6---sn-uxaxjvhxbt2u-xhte.googlevideo.com/xpc/EgVo2aDSNQ%3D%3D/met/1728713131,/mh/X0/mm/31,29/mn/sn-uxaxjvhxbt2u-xhte,sn-hgn7yn7l/ms/au,rdu/mv/m/mvi/6/pl/19/rms/au,au/initcwndbps/363750/vprv/1/playlist_type/DVR/dover/13/txp/5432434/mt/1728712610/fvip/3/short_key/1/keepalive/yes/fexp/51300761/sparams/expire,ei,ip,id,itag,source,requiressl,ratebypass,pfa,sgovp,rqh,xpc,vprv,playlist_type/sig/AJfQdSswRQIhAIg7NT5-FvjwtRcGwGrNwgHApyYMSqJQfgufV_DgtJN1AiBD8pp8FxIP6dpoNs5lEov13Icl8ga4q0Mx9B60pmM8Yg%3D%3D/lsparams/hls_chunk_host,met,mh,mm,mn,ms,mv,mvi,pl,rms,initcwndbps/lsig/ACJ0pHgwRAIgesWmidbw_Onsm2uR1ZadglbPGuhVIShH6vt2D7HldfICIB_bs3VbDBT3NAqwXmdNYiS8Cn7KlFM2XItE9iwjyxHZ/playlist/index.m3u8'},\n",
       " {'extension': 'mp4',\n",
       "  'format_name': '134 - 640x360 (360p)',\n",
       "  'url': 'https://rr6---sn-uxaxjvhxbt2u-xhte.googlevideo.com/videoplayback?expire=1728734731&ei=qxEKZ_bZH_-_mLAP9eedAQ&ip=156.209.173.224&id=o-ABiwGs0GUhtumyVHJSI9T2R4lD4_-kGK6Z46-fIh8VxQ&itag=134&source=youtube&requiressl=yes&xpc=EgVo2aDSNQ%3D%3D&met=1728713131%2C&mh=X0&mm=31%2C29&mn=sn-uxaxjvhxbt2u-xhte%2Csn-hgn7yn7l&ms=au%2Crdu&mv=m&mvi=6&pl=19&rms=au%2Cau&initcwndbps=363750&vprv=1&svpuc=1&mime=video%2Fmp4&rqh=1&gir=yes&clen=19184104&dur=2247.733&lmt=1635526893375427&mt=1728712610&fvip=3&keepalive=yes&fexp=51300761&c=IOS&txp=5432434&sparams=expire%2Cei%2Cip%2Cid%2Citag%2Csource%2Crequiressl%2Cxpc%2Cvprv%2Csvpuc%2Cmime%2Crqh%2Cgir%2Cclen%2Cdur%2Clmt&sig=AJfQdSswRQIhANyHLcOnmd5Kg-toSIz-GDPP851D2164vqL5ZUXZv7sdAiALCkorIfJtyvfZ719bv5nQjd4QKtHbbRHgcf6zM0jFEw%3D%3D&lsparams=met%2Cmh%2Cmm%2Cmn%2Cms%2Cmv%2Cmvi%2Cpl%2Crms%2Cinitcwndbps&lsig=ACJ0pHgwRAIgQDXTjulQ-uYTSxGc9dkoVMICNuCKkbJAdxt4CewqoakCIG6QPtO5MacqXDz_h8N8gfNYF81SItVTQIUZRw8OGZss'},\n",
       " {'extension': 'mp4',\n",
       "  'format_name': '18 - 640x360 (360p)',\n",
       "  'url': 'https://rr6---sn-uxaxjvhxbt2u-xhte.googlevideo.com/videoplayback?expire=1728734731&ei=qxEKZ57UKa-4mLAPpuSioQ8&ip=156.209.173.224&id=o-AGt2Htbp-GH0VJPNYgFwALK-tF3T_TL65cwGDs_vBZJd&itag=18&source=youtube&requiressl=yes&xpc=EgVo2aDSNQ%3D%3D&met=1728713131%2C&mh=X0&mm=31%2C29&mn=sn-uxaxjvhxbt2u-xhte%2Csn-hgn7yn7l&ms=au%2Crdu&mv=m&mvi=6&pl=19&rms=au%2Cau&initcwndbps=363750&bui=AXLXGFRYwQ2GIAxCr3KYF_f_MYNHzan4F3uHm9verUWpHtmOaN0DiIaYvZ1xblXEqNLDZQk6FR0Ib3UF&spc=54MbxSHh9gn1jR5RQTo818pjJ8XNHSIIEVelzkAbNatWBWvw-9pN3GkZwevB&vprv=1&svpuc=1&mime=video%2Fmp4&ns=i1Ga6vbMkXEhdbgcNEATTOkQ&rqh=1&cnr=14&ratebypass=yes&dur=2247.807&lmt=1665258728854815&mt=1728712610&fvip=3&fexp=51300761&c=MWEB&sefc=1&txp=5438434&n=IQQYbC-nU-VeyQ&sparams=expire%2Cei%2Cip%2Cid%2Citag%2Csource%2Crequiressl%2Cxpc%2Cbui%2Cspc%2Cvprv%2Csvpuc%2Cmime%2Cns%2Crqh%2Ccnr%2Cratebypass%2Cdur%2Clmt&sig=AJfQdSswRQIgXWHHJpwqstY54v2dRtVvCH4G5aEXcj4IqW4ZZDh3_r8CIQCMIFa6VOgfG-EQmaY5gLsg6BkqvT5cpnbZrKBnHLrv0w%3D%3D&lsparams=met%2Cmh%2Cmm%2Cmn%2Cms%2Cmv%2Cmvi%2Cpl%2Crms%2Cinitcwndbps&lsig=ACJ0pHgwRgIhANOZ58jFVRVJrYVtNMb5GQxaQnu6u6NlYdHPO4n7TUJ0AiEAklw_rkj687NUBf1GVLdP8zCoPEF9T5KhLB7yJ9hqGe0%3D'},\n",
       " {'extension': 'mp4',\n",
       "  'format_name': '605 - 640x360',\n",
       "  'url': 'https://manifest.googlevideo.com/api/manifest/hls_playlist/expire/1728734731/ei/qxEKZ_bZH_-_mLAP9eedAQ/ip/156.209.173.224/id/341b840f63e2bdb6/itag/605/source/youtube/requiressl/yes/ratebypass/yes/pfa/1/wft/1/sgovp/clen%3D33938957%3Bdur%3D2247.733%3Bgir%3Dyes%3Bitag%3D243%3Blmt%3D1635527256599251/rqh/1/hls_chunk_host/rr6---sn-uxaxjvhxbt2u-xhte.googlevideo.com/xpc/EgVo2aDSNQ%3D%3D/met/1728713131,/mh/X0/mm/31,29/mn/sn-uxaxjvhxbt2u-xhte,sn-hgn7yn7l/ms/au,rdu/mv/m/mvi/6/pl/19/rms/au,au/initcwndbps/363750/vprv/1/playlist_type/DVR/dover/13/txp/5432434/mt/1728712610/fvip/3/short_key/1/keepalive/yes/fexp/51300761/sparams/expire,ei,ip,id,itag,source,requiressl,ratebypass,pfa,wft,sgovp,rqh,xpc,vprv,playlist_type/sig/AJfQdSswRAIgR7iqRQQQaWMQRfQPxxYG6tBRihao9mlwt6MqrPN-u9MCICmfVrpSV9-8JDEMyciry_UpvYHYsdSSd6s6To2jQyvY/lsparams/hls_chunk_host,met,mh,mm,mn,ms,mv,mvi,pl,rms,initcwndbps/lsig/ACJ0pHgwRQIgDQMCNxlQvgSIXK-KkqYzDUpSc-A0aLAv3gwS1FMPyFUCIQCF6_J5m9Q1trW760NTaPAmWinzGMkkAOeuop6O_t3kVw%3D%3D/playlist/index.m3u8'},\n",
       " {'extension': 'webm',\n",
       "  'format_name': '243 - 640x360 (360p)',\n",
       "  'url': 'https://rr6---sn-uxaxjvhxbt2u-xhte.googlevideo.com/videoplayback?expire=1728734731&ei=qxEKZ_bZH_-_mLAP9eedAQ&ip=156.209.173.224&id=o-ABiwGs0GUhtumyVHJSI9T2R4lD4_-kGK6Z46-fIh8VxQ&itag=243&source=youtube&requiressl=yes&xpc=EgVo2aDSNQ%3D%3D&met=1728713131%2C&mh=X0&mm=31%2C29&mn=sn-uxaxjvhxbt2u-xhte%2Csn-hgn7yn7l&ms=au%2Crdu&mv=m&mvi=6&pl=19&rms=au%2Cau&initcwndbps=363750&vprv=1&svpuc=1&mime=video%2Fwebm&rqh=1&gir=yes&clen=33938957&dur=2247.733&lmt=1635527256599251&mt=1728712610&fvip=3&keepalive=yes&fexp=51300761&c=IOS&txp=5432434&sparams=expire%2Cei%2Cip%2Cid%2Citag%2Csource%2Crequiressl%2Cxpc%2Cvprv%2Csvpuc%2Cmime%2Crqh%2Cgir%2Cclen%2Cdur%2Clmt&sig=AJfQdSswRAIgGMDamq5hW66CA8VrB5uMrqqLoytnpmZZBMMbbrDXXkMCIFw5Qlv43-7ZS_MZpcSpy6Af8haN-kqSj730vCnhC81O&lsparams=met%2Cmh%2Cmm%2Cmn%2Cms%2Cmv%2Cmvi%2Cpl%2Crms%2Cinitcwndbps&lsig=ACJ0pHgwRAIgQDXTjulQ-uYTSxGc9dkoVMICNuCKkbJAdxt4CewqoakCIG6QPtO5MacqXDz_h8N8gfNYF81SItVTQIUZRw8OGZss'},\n",
       " {'extension': 'mp4',\n",
       "  'format_name': '397 - 854x480 (480p)',\n",
       "  'url': 'https://rr6---sn-uxaxjvhxbt2u-xhte.googlevideo.com/videoplayback?expire=1728734731&ei=qxEKZ_bZH_-_mLAP9eedAQ&ip=156.209.173.224&id=o-ABiwGs0GUhtumyVHJSI9T2R4lD4_-kGK6Z46-fIh8VxQ&itag=397&source=youtube&requiressl=yes&xpc=EgVo2aDSNQ%3D%3D&met=1728713131%2C&mh=X0&mm=31%2C29&mn=sn-uxaxjvhxbt2u-xhte%2Csn-hgn7yn7l&ms=au%2Crdu&mv=m&mvi=6&pl=19&rms=au%2Cau&initcwndbps=363750&vprv=1&svpuc=1&mime=video%2Fmp4&rqh=1&gir=yes&clen=57841734&dur=2247.733&lmt=1636513439269569&mt=1728712610&fvip=3&keepalive=yes&fexp=51300761&c=IOS&txp=5436434&sparams=expire%2Cei%2Cip%2Cid%2Citag%2Csource%2Crequiressl%2Cxpc%2Cvprv%2Csvpuc%2Cmime%2Crqh%2Cgir%2Cclen%2Cdur%2Clmt&sig=AJfQdSswRgIhALkPJkFwXMCy2pDgRj8ff1-rFR_98FcuKnZhP9mSFHfFAiEAkpWJSBwb3rFfl9mll6X93DigDbJ3oVSA_Bj9btGB3no%3D&lsparams=met%2Cmh%2Cmm%2Cmn%2Cms%2Cmv%2Cmvi%2Cpl%2Crms%2Cinitcwndbps&lsig=ACJ0pHgwRAIgQDXTjulQ-uYTSxGc9dkoVMICNuCKkbJAdxt4CewqoakCIG6QPtO5MacqXDz_h8N8gfNYF81SItVTQIUZRw8OGZss'},\n",
       " {'extension': 'mp4',\n",
       "  'format_name': '231 - 854x480',\n",
       "  'url': 'https://manifest.googlevideo.com/api/manifest/hls_playlist/expire/1728734731/ei/qxEKZ_bZH_-_mLAP9eedAQ/ip/156.209.173.224/id/341b840f63e2bdb6/itag/231/source/youtube/requiressl/yes/ratebypass/yes/pfa/1/sgovp/clen%3D28650085%3Bdur%3D2247.733%3Bgir%3Dyes%3Bitag%3D135%3Blmt%3D1635526921866893/rqh/1/hls_chunk_host/rr6---sn-uxaxjvhxbt2u-xhte.googlevideo.com/xpc/EgVo2aDSNQ%3D%3D/met/1728713131,/mh/X0/mm/31,29/mn/sn-uxaxjvhxbt2u-xhte,sn-hgn7yn7l/ms/au,rdu/mv/m/mvi/6/pl/19/rms/au,au/initcwndbps/363750/vprv/1/playlist_type/DVR/dover/13/txp/5432434/mt/1728712610/fvip/3/short_key/1/keepalive/yes/fexp/51300761/sparams/expire,ei,ip,id,itag,source,requiressl,ratebypass,pfa,sgovp,rqh,xpc,vprv,playlist_type/sig/AJfQdSswRQIgDEztHBOh2nFP9WV-WdHAtK20D6JZg_Rlm9p3R9qudqACIQDwiBPBvbPAG4fM1SKXrNlt3Au3RWrNWGzsrt98-4YWog%3D%3D/lsparams/hls_chunk_host,met,mh,mm,mn,ms,mv,mvi,pl,rms,initcwndbps/lsig/ACJ0pHgwRQIhAPxF7fUQTak7Zv-amqpEASzjsc8Ssj1SF64zrxqS6xH8AiArTTYpwydWDu5EaLXyQ0QPHpTFRdNorR26OcpcDp3Rcw%3D%3D/playlist/index.m3u8'},\n",
       " {'extension': 'mp4',\n",
       "  'format_name': '135 - 854x480 (480p)',\n",
       "  'url': 'https://rr6---sn-uxaxjvhxbt2u-xhte.googlevideo.com/videoplayback?expire=1728734731&ei=qxEKZ_bZH_-_mLAP9eedAQ&ip=156.209.173.224&id=o-ABiwGs0GUhtumyVHJSI9T2R4lD4_-kGK6Z46-fIh8VxQ&itag=135&source=youtube&requiressl=yes&xpc=EgVo2aDSNQ%3D%3D&met=1728713131%2C&mh=X0&mm=31%2C29&mn=sn-uxaxjvhxbt2u-xhte%2Csn-hgn7yn7l&ms=au%2Crdu&mv=m&mvi=6&pl=19&rms=au%2Cau&initcwndbps=363750&vprv=1&svpuc=1&mime=video%2Fmp4&rqh=1&gir=yes&clen=28650085&dur=2247.733&lmt=1635526921866893&mt=1728712610&fvip=3&keepalive=yes&fexp=51300761&c=IOS&txp=5432434&sparams=expire%2Cei%2Cip%2Cid%2Citag%2Csource%2Crequiressl%2Cxpc%2Cvprv%2Csvpuc%2Cmime%2Crqh%2Cgir%2Cclen%2Cdur%2Clmt&sig=AJfQdSswRAIgJiyhKBpF1pEi0M4pEZgHtzXQePEpfh8KYYHpfBV9nIQCIGcBWWduFro3ktkeEmEcsnehDOY8uZxLYdIHbdJKhMjR&lsparams=met%2Cmh%2Cmm%2Cmn%2Cms%2Cmv%2Cmvi%2Cpl%2Crms%2Cinitcwndbps&lsig=ACJ0pHgwRAIgQDXTjulQ-uYTSxGc9dkoVMICNuCKkbJAdxt4CewqoakCIG6QPtO5MacqXDz_h8N8gfNYF81SItVTQIUZRw8OGZss'},\n",
       " {'extension': 'mp4',\n",
       "  'format_name': '606 - 854x480',\n",
       "  'url': 'https://manifest.googlevideo.com/api/manifest/hls_playlist/expire/1728734731/ei/qxEKZ_bZH_-_mLAP9eedAQ/ip/156.209.173.224/id/341b840f63e2bdb6/itag/606/source/youtube/requiressl/yes/ratebypass/yes/pfa/1/wft/1/sgovp/clen%3D55417279%3Bdur%3D2247.733%3Bgir%3Dyes%3Bitag%3D244%3Blmt%3D1635527270830708/rqh/1/hls_chunk_host/rr6---sn-uxaxjvhxbt2u-xhte.googlevideo.com/xpc/EgVo2aDSNQ%3D%3D/met/1728713131,/mh/X0/mm/31,29/mn/sn-uxaxjvhxbt2u-xhte,sn-hgn7yn7l/ms/au,rdu/mv/m/mvi/6/pl/19/rms/au,au/initcwndbps/363750/vprv/1/playlist_type/DVR/dover/13/txp/5432434/mt/1728712610/fvip/3/short_key/1/keepalive/yes/fexp/51300761/sparams/expire,ei,ip,id,itag,source,requiressl,ratebypass,pfa,wft,sgovp,rqh,xpc,vprv,playlist_type/sig/AJfQdSswRQIgJKVX9UGBeClhjStybI3gEYPUlS35VwgTv6fIHv5qkqECIQDjuJHJC4HYWY7x9OPNO4K5ZvjM2krCyCsacSWDVCDvlA%3D%3D/lsparams/hls_chunk_host,met,mh,mm,mn,ms,mv,mvi,pl,rms,initcwndbps/lsig/ACJ0pHgwRAIgGNlLBtgu52NPtZBRc6WO6CsbnhgTdo4epAyVAbbg70QCIH9ujifKZsLul0brrLjrXVyWCqZ2ViNwDwwblg0oaoIx/playlist/index.m3u8'},\n",
       " {'extension': 'webm',\n",
       "  'format_name': '244 - 854x480 (480p)',\n",
       "  'url': 'https://rr6---sn-uxaxjvhxbt2u-xhte.googlevideo.com/videoplayback?expire=1728734731&ei=qxEKZ_bZH_-_mLAP9eedAQ&ip=156.209.173.224&id=o-ABiwGs0GUhtumyVHJSI9T2R4lD4_-kGK6Z46-fIh8VxQ&itag=244&source=youtube&requiressl=yes&xpc=EgVo2aDSNQ%3D%3D&met=1728713131%2C&mh=X0&mm=31%2C29&mn=sn-uxaxjvhxbt2u-xhte%2Csn-hgn7yn7l&ms=au%2Crdu&mv=m&mvi=6&pl=19&rms=au%2Cau&initcwndbps=363750&vprv=1&svpuc=1&mime=video%2Fwebm&rqh=1&gir=yes&clen=55417279&dur=2247.733&lmt=1635527270830708&mt=1728712610&fvip=3&keepalive=yes&fexp=51300761&c=IOS&txp=5432434&sparams=expire%2Cei%2Cip%2Cid%2Citag%2Csource%2Crequiressl%2Cxpc%2Cvprv%2Csvpuc%2Cmime%2Crqh%2Cgir%2Cclen%2Cdur%2Clmt&sig=AJfQdSswRAIgFp4GdaBP25oo1aAC_QV4wys3ttWofEp0uA_GgcKtTFgCIHUZh4HxdAXF5DfFL36VeZDzuCu-mvx_XMLnHVG9ExQ8&lsparams=met%2Cmh%2Cmm%2Cmn%2Cms%2Cmv%2Cmvi%2Cpl%2Crms%2Cinitcwndbps&lsig=ACJ0pHgwRAIgQDXTjulQ-uYTSxGc9dkoVMICNuCKkbJAdxt4CewqoakCIG6QPtO5MacqXDz_h8N8gfNYF81SItVTQIUZRw8OGZss'},\n",
       " {'extension': 'mp4',\n",
       "  'format_name': '136 - 1280x720 (720p)',\n",
       "  'url': 'https://rr6---sn-uxaxjvhxbt2u-xhte.googlevideo.com/videoplayback?expire=1728734731&ei=qxEKZ57UKa-4mLAPpuSioQ8&ip=156.209.173.224&id=o-AGt2Htbp-GH0VJPNYgFwALK-tF3T_TL65cwGDs_vBZJd&itag=136&aitags=133%2C134%2C135%2C136%2C160%2C242%2C243%2C244%2C247%2C278%2C298%2C299%2C302%2C303%2C308%2C394%2C395%2C396%2C397%2C398%2C399%2C400%2C597%2C598&source=youtube&requiressl=yes&xpc=EgVo2aDSNQ%3D%3D&met=1728713131%2C&mh=X0&mm=31%2C29&mn=sn-uxaxjvhxbt2u-xhte%2Csn-hgn7yn7l&ms=au%2Crdu&mv=m&mvi=6&pl=19&rms=au%2Cau&initcwndbps=363750&bui=AXLXGFTFKhnmDpv8mpoi-Mb0YdCcmg2YY5r07VN8NXJV2o__tO6gVjNCI1PufOpO8jgFdCtcXEe3K1G_&spc=54MbxSHi9gn1jR5RQTo818pjJ8XNHSIIEVelzkAbNatWBWvw-9pN3GkZwQ&vprv=1&svpuc=1&mime=video%2Fmp4&ns=H6OWOOaqUIkqWcdS58wTQtcQ&rqh=1&gir=yes&clen=78782352&dur=2247.733&lmt=1635526895031102&mt=1728712610&fvip=3&keepalive=yes&fexp=51300761&c=MWEB&sefc=1&txp=5432434&n=5rXrgaDor9hHgg&sparams=expire%2Cei%2Cip%2Cid%2Caitags%2Csource%2Crequiressl%2Cxpc%2Cbui%2Cspc%2Cvprv%2Csvpuc%2Cmime%2Cns%2Crqh%2Cgir%2Cclen%2Cdur%2Clmt&sig=AJfQdSswRQIhAKhF8ujHwz_BTaOPkOQFdRNswhn01Yowy43dljA3R-l_AiABUmexMjwkj5105muo-UjTsK2L8SZdy877PWdldQEG9g%3D%3D&lsparams=met%2Cmh%2Cmm%2Cmn%2Cms%2Cmv%2Cmvi%2Cpl%2Crms%2Cinitcwndbps&lsig=ACJ0pHgwRgIhANOZ58jFVRVJrYVtNMb5GQxaQnu6u6NlYdHPO4n7TUJ0AiEAklw_rkj687NUBf1GVLdP8zCoPEF9T5KhLB7yJ9hqGe0%3D'},\n",
       " {'extension': 'webm',\n",
       "  'format_name': '247 - 1280x720 (720p)',\n",
       "  'url': 'https://rr6---sn-uxaxjvhxbt2u-xhte.googlevideo.com/videoplayback?expire=1728734731&ei=qxEKZ57UKa-4mLAPpuSioQ8&ip=156.209.173.224&id=o-AGt2Htbp-GH0VJPNYgFwALK-tF3T_TL65cwGDs_vBZJd&itag=247&aitags=133%2C134%2C135%2C136%2C160%2C242%2C243%2C244%2C247%2C278%2C298%2C299%2C302%2C303%2C308%2C394%2C395%2C396%2C397%2C398%2C399%2C400%2C597%2C598&source=youtube&requiressl=yes&xpc=EgVo2aDSNQ%3D%3D&met=1728713131%2C&mh=X0&mm=31%2C29&mn=sn-uxaxjvhxbt2u-xhte%2Csn-hgn7yn7l&ms=au%2Crdu&mv=m&mvi=6&pl=19&rms=au%2Cau&initcwndbps=363750&bui=AXLXGFTFKhnmDpv8mpoi-Mb0YdCcmg2YY5r07VN8NXJV2o__tO6gVjNCI1PufOpO8jgFdCtcXEe3K1G_&spc=54MbxSHi9gn1jR5RQTo818pjJ8XNHSIIEVelzkAbNatWBWvw-9pN3GkZwQ&vprv=1&svpuc=1&mime=video%2Fwebm&ns=H6OWOOaqUIkqWcdS58wTQtcQ&rqh=1&gir=yes&clen=107203845&dur=2247.733&lmt=1635527276163626&mt=1728712610&fvip=3&keepalive=yes&fexp=51300761&c=MWEB&sefc=1&txp=5432434&n=5rXrgaDor9hHgg&sparams=expire%2Cei%2Cip%2Cid%2Caitags%2Csource%2Crequiressl%2Cxpc%2Cbui%2Cspc%2Cvprv%2Csvpuc%2Cmime%2Cns%2Crqh%2Cgir%2Cclen%2Cdur%2Clmt&sig=AJfQdSswRAIgDt-xp9X4FvZv4nVQ4RwsvL3GW7S8U4MHso9hBa5k478CIDX301k4UuaL4uMbJZWvv4lb6cO_oi-sI5a2rowpE_Se&lsparams=met%2Cmh%2Cmm%2Cmn%2Cms%2Cmv%2Cmvi%2Cpl%2Crms%2Cinitcwndbps&lsig=ACJ0pHgwRgIhANOZ58jFVRVJrYVtNMb5GQxaQnu6u6NlYdHPO4n7TUJ0AiEAklw_rkj687NUBf1GVLdP8zCoPEF9T5KhLB7yJ9hqGe0%3D'},\n",
       " {'extension': 'mp4',\n",
       "  'format_name': '398 - 1280x720 (720p60)',\n",
       "  'url': 'https://rr6---sn-uxaxjvhxbt2u-xhte.googlevideo.com/videoplayback?expire=1728734731&ei=qxEKZ_bZH_-_mLAP9eedAQ&ip=156.209.173.224&id=o-ABiwGs0GUhtumyVHJSI9T2R4lD4_-kGK6Z46-fIh8VxQ&itag=398&source=youtube&requiressl=yes&xpc=EgVo2aDSNQ%3D%3D&met=1728713131%2C&mh=X0&mm=31%2C29&mn=sn-uxaxjvhxbt2u-xhte%2Csn-hgn7yn7l&ms=au%2Crdu&mv=m&mvi=6&pl=19&rms=au%2Cau&initcwndbps=363750&vprv=1&svpuc=1&mime=video%2Fmp4&rqh=1&gir=yes&clen=149576143&dur=2247.750&lmt=1636513386075320&mt=1728712610&fvip=3&keepalive=yes&fexp=51300761&c=IOS&txp=5436434&sparams=expire%2Cei%2Cip%2Cid%2Citag%2Csource%2Crequiressl%2Cxpc%2Cvprv%2Csvpuc%2Cmime%2Crqh%2Cgir%2Cclen%2Cdur%2Clmt&sig=AJfQdSswRgIhAOLK234KtJQ7mNVr5licKv30-Y2X0Uj2TOtxJUd77OkWAiEAtyyD2rp1DRGqke3CeqQfUahkmP9BnWcxNB2qxCNiS2o%3D&lsparams=met%2Cmh%2Cmm%2Cmn%2Cms%2Cmv%2Cmvi%2Cpl%2Crms%2Cinitcwndbps&lsig=ACJ0pHgwRAIgQDXTjulQ-uYTSxGc9dkoVMICNuCKkbJAdxt4CewqoakCIG6QPtO5MacqXDz_h8N8gfNYF81SItVTQIUZRw8OGZss'},\n",
       " {'extension': 'mp4',\n",
       "  'format_name': '311 - 1280x720',\n",
       "  'url': 'https://manifest.googlevideo.com/api/manifest/hls_playlist/expire/1728734731/ei/qxEKZ_bZH_-_mLAP9eedAQ/ip/156.209.173.224/id/341b840f63e2bdb6/itag/311/source/youtube/requiressl/yes/ratebypass/yes/pfa/1/sgovp/clen%3D117111929%3Bdur%3D2247.749%3Bgir%3Dyes%3Bitag%3D298%3Blmt%3D1635527060676877/rqh/1/hls_chunk_host/rr6---sn-uxaxjvhxbt2u-xhte.googlevideo.com/xpc/EgVo2aDSNQ%3D%3D/met/1728713131,/mh/X0/mm/31,29/mn/sn-uxaxjvhxbt2u-xhte,sn-hgn7yn7l/ms/au,rdu/mv/m/mvi/6/pl/19/rms/au,au/initcwndbps/363750/vprv/1/playlist_type/DVR/dover/13/txp/5432434/mt/1728712610/fvip/3/short_key/1/keepalive/yes/fexp/51300761/sparams/expire,ei,ip,id,itag,source,requiressl,ratebypass,pfa,sgovp,rqh,xpc,vprv,playlist_type/sig/AJfQdSswRAIge6RYjDZWw95C3cxU5BRAwBuCOF9FGOclo8AwviemqW8CIHx2vAmQDCE3KzT0uFx49xx9cAW7JZfGav1JMBkW2xdK/lsparams/hls_chunk_host,met,mh,mm,mn,ms,mv,mvi,pl,rms,initcwndbps/lsig/ACJ0pHgwRQIhAJNPMjym3BJ1RpCyP91zzeToxENik0rd83qgpZby2RMxAiA4d_R3qCbovSv2KQSCkePYdyq3xcBiszv6TMygtkv2dA%3D%3D/playlist/index.m3u8'},\n",
       " {'extension': 'mp4',\n",
       "  'format_name': '298 - 1280x720 (720p60)',\n",
       "  'url': 'https://rr6---sn-uxaxjvhxbt2u-xhte.googlevideo.com/videoplayback?expire=1728734731&ei=qxEKZ_bZH_-_mLAP9eedAQ&ip=156.209.173.224&id=o-ABiwGs0GUhtumyVHJSI9T2R4lD4_-kGK6Z46-fIh8VxQ&itag=298&source=youtube&requiressl=yes&xpc=EgVo2aDSNQ%3D%3D&met=1728713131%2C&mh=X0&mm=31%2C29&mn=sn-uxaxjvhxbt2u-xhte%2Csn-hgn7yn7l&ms=au%2Crdu&mv=m&mvi=6&pl=19&rms=au%2Cau&initcwndbps=363750&vprv=1&svpuc=1&mime=video%2Fmp4&rqh=1&gir=yes&clen=117111929&dur=2247.749&lmt=1635527060676877&mt=1728712610&fvip=3&keepalive=yes&fexp=51300761&c=IOS&txp=5432434&sparams=expire%2Cei%2Cip%2Cid%2Citag%2Csource%2Crequiressl%2Cxpc%2Cvprv%2Csvpuc%2Cmime%2Crqh%2Cgir%2Cclen%2Cdur%2Clmt&sig=AJfQdSswRQIgVU4MiLXweO2xD6aB4BBGZUqPk8tvQT_nZxLEhkX5EosCIQDdJKNoOrlDm0vajDWRL03okxcpVP6vBmkqLCVQqAYMlw%3D%3D&lsparams=met%2Cmh%2Cmm%2Cmn%2Cms%2Cmv%2Cmvi%2Cpl%2Crms%2Cinitcwndbps&lsig=ACJ0pHgwRAIgQDXTjulQ-uYTSxGc9dkoVMICNuCKkbJAdxt4CewqoakCIG6QPtO5MacqXDz_h8N8gfNYF81SItVTQIUZRw8OGZss'},\n",
       " {'extension': 'mp4',\n",
       "  'format_name': '612 - 1280x720',\n",
       "  'url': 'https://manifest.googlevideo.com/api/manifest/hls_playlist/expire/1728734731/ei/qxEKZ_bZH_-_mLAP9eedAQ/ip/156.209.173.224/id/341b840f63e2bdb6/itag/612/source/youtube/requiressl/yes/ratebypass/yes/pfa/1/wft/1/sgovp/clen%3D144119226%3Bdur%3D2247.749%3Bgir%3Dyes%3Bitag%3D302%3Blmt%3D1635526932729352/rqh/1/hls_chunk_host/rr6---sn-uxaxjvhxbt2u-xhte.googlevideo.com/xpc/EgVo2aDSNQ%3D%3D/met/1728713131,/mh/X0/mm/31,29/mn/sn-uxaxjvhxbt2u-xhte,sn-hgn7yn7l/ms/au,rdu/mv/m/mvi/6/pl/19/rms/au,au/initcwndbps/363750/vprv/1/playlist_type/DVR/dover/13/txp/5432434/mt/1728712610/fvip/3/short_key/1/keepalive/yes/fexp/51300761/sparams/expire,ei,ip,id,itag,source,requiressl,ratebypass,pfa,wft,sgovp,rqh,xpc,vprv,playlist_type/sig/AJfQdSswRQIhAM3OD20UhIDHbP7bnj_FWwc9z4Yv9ZJSRBD3dfB6dbL9AiAsHZ88OT6FHbyhxwGZEUUR1bEVl8yw2i6jH-ECLn7I-A%3D%3D/lsparams/hls_chunk_host,met,mh,mm,mn,ms,mv,mvi,pl,rms,initcwndbps/lsig/ACJ0pHgwRAIgVDToQuJRhbsZQ--g9f7PDg2hhLYG1n1sejNLvvXC-n4CIBnid9Hs5RsQe0x1CE9GTANpVNp6ygkuneLFCrxGDzoa/playlist/index.m3u8'},\n",
       " {'extension': 'webm',\n",
       "  'format_name': '302 - 1280x720 (720p60)',\n",
       "  'url': 'https://rr6---sn-uxaxjvhxbt2u-xhte.googlevideo.com/videoplayback?expire=1728734731&ei=qxEKZ_bZH_-_mLAP9eedAQ&ip=156.209.173.224&id=o-ABiwGs0GUhtumyVHJSI9T2R4lD4_-kGK6Z46-fIh8VxQ&itag=302&source=youtube&requiressl=yes&xpc=EgVo2aDSNQ%3D%3D&met=1728713131%2C&mh=X0&mm=31%2C29&mn=sn-uxaxjvhxbt2u-xhte%2Csn-hgn7yn7l&ms=au%2Crdu&mv=m&mvi=6&pl=19&rms=au%2Cau&initcwndbps=363750&vprv=1&svpuc=1&mime=video%2Fwebm&rqh=1&gir=yes&clen=144119226&dur=2247.749&lmt=1635526932729352&mt=1728712610&fvip=3&keepalive=yes&fexp=51300761&c=IOS&txp=5432434&sparams=expire%2Cei%2Cip%2Cid%2Citag%2Csource%2Crequiressl%2Cxpc%2Cvprv%2Csvpuc%2Cmime%2Crqh%2Cgir%2Cclen%2Cdur%2Clmt&sig=AJfQdSswRgIhAPDdnEOYT_5PzITvhtHocLkfvGrQzR-o-IIjheTegbnhAiEAzh5LDmTWaW7nGVmtO355uj4d4nXd0Ub3ULu6hGkdDJI%3D&lsparams=met%2Cmh%2Cmm%2Cmn%2Cms%2Cmv%2Cmvi%2Cpl%2Crms%2Cinitcwndbps&lsig=ACJ0pHgwRAIgQDXTjulQ-uYTSxGc9dkoVMICNuCKkbJAdxt4CewqoakCIG6QPtO5MacqXDz_h8N8gfNYF81SItVTQIUZRw8OGZss'},\n",
       " {'extension': 'mp4',\n",
       "  'format_name': '399 - 1920x1080 (1080p60)',\n",
       "  'url': 'https://rr6---sn-uxaxjvhxbt2u-xhte.googlevideo.com/videoplayback?expire=1728734731&ei=qxEKZ_bZH_-_mLAP9eedAQ&ip=156.209.173.224&id=o-ABiwGs0GUhtumyVHJSI9T2R4lD4_-kGK6Z46-fIh8VxQ&itag=399&source=youtube&requiressl=yes&xpc=EgVo2aDSNQ%3D%3D&met=1728713131%2C&mh=X0&mm=31%2C29&mn=sn-uxaxjvhxbt2u-xhte%2Csn-hgn7yn7l&ms=au%2Crdu&mv=m&mvi=6&pl=19&rms=au%2Cau&initcwndbps=363750&vprv=1&svpuc=1&mime=video%2Fmp4&rqh=1&gir=yes&clen=268418318&dur=2247.750&lmt=1636513467046747&mt=1728712610&fvip=3&keepalive=yes&fexp=51300761&c=IOS&txp=5436434&sparams=expire%2Cei%2Cip%2Cid%2Citag%2Csource%2Crequiressl%2Cxpc%2Cvprv%2Csvpuc%2Cmime%2Crqh%2Cgir%2Cclen%2Cdur%2Clmt&sig=AJfQdSswRQIgQKggcobU5X2VerJPjfFZdgt0YeKW-q6tvp39Qc-dKsQCIQCk161yRYpX-RIqWDKk5gMWzGM_0gtiJDTNVXcOhFgSxg%3D%3D&lsparams=met%2Cmh%2Cmm%2Cmn%2Cms%2Cmv%2Cmvi%2Cpl%2Crms%2Cinitcwndbps&lsig=ACJ0pHgwRAIgQDXTjulQ-uYTSxGc9dkoVMICNuCKkbJAdxt4CewqoakCIG6QPtO5MacqXDz_h8N8gfNYF81SItVTQIUZRw8OGZss'},\n",
       " {'extension': 'mp4',\n",
       "  'format_name': '312 - 1920x1080',\n",
       "  'url': 'https://manifest.googlevideo.com/api/manifest/hls_playlist/expire/1728734731/ei/qxEKZ_bZH_-_mLAP9eedAQ/ip/156.209.173.224/id/341b840f63e2bdb6/itag/312/source/youtube/requiressl/yes/ratebypass/yes/pfa/1/sgovp/clen%3D215565759%3Bdur%3D2247.749%3Bgir%3Dyes%3Bitag%3D299%3Blmt%3D1635526902925854/rqh/1/hls_chunk_host/rr6---sn-uxaxjvhxbt2u-xhte.googlevideo.com/xpc/EgVo2aDSNQ%3D%3D/met/1728713131,/mh/X0/mm/31,29/mn/sn-uxaxjvhxbt2u-xhte,sn-hgn7yn7l/ms/au,rdu/mv/m/mvi/6/pl/19/rms/au,au/initcwndbps/363750/vprv/1/playlist_type/DVR/dover/13/txp/5432434/mt/1728712610/fvip/3/short_key/1/keepalive/yes/fexp/51300761/sparams/expire,ei,ip,id,itag,source,requiressl,ratebypass,pfa,sgovp,rqh,xpc,vprv,playlist_type/sig/AJfQdSswRAIgNtT4BmE3ansc4M4rMH-qmQA72gRplln0It6zW_an6_cCIEiaHxdhkZoSG0Us7CGTiJw30CuDqKq07Qp_VoRLBpwE/lsparams/hls_chunk_host,met,mh,mm,mn,ms,mv,mvi,pl,rms,initcwndbps/lsig/ACJ0pHgwRQIgO-wd7EY5VCTFEjEqQW9bFieXhBFsNvjFjwFc2KisEgcCIQDvTXpQdK-BDjqa6oBQ1RNqXkwMjSQE2_NBEGFnM6Dp8w%3D%3D/playlist/index.m3u8'},\n",
       " {'extension': 'mp4',\n",
       "  'format_name': '299 - 1920x1080 (1080p60)',\n",
       "  'url': 'https://rr6---sn-uxaxjvhxbt2u-xhte.googlevideo.com/videoplayback?expire=1728734731&ei=qxEKZ_bZH_-_mLAP9eedAQ&ip=156.209.173.224&id=o-ABiwGs0GUhtumyVHJSI9T2R4lD4_-kGK6Z46-fIh8VxQ&itag=299&source=youtube&requiressl=yes&xpc=EgVo2aDSNQ%3D%3D&met=1728713131%2C&mh=X0&mm=31%2C29&mn=sn-uxaxjvhxbt2u-xhte%2Csn-hgn7yn7l&ms=au%2Crdu&mv=m&mvi=6&pl=19&rms=au%2Cau&initcwndbps=363750&vprv=1&svpuc=1&mime=video%2Fmp4&rqh=1&gir=yes&clen=215565759&dur=2247.749&lmt=1635526902925854&mt=1728712610&fvip=3&keepalive=yes&fexp=51300761&c=IOS&txp=5432434&sparams=expire%2Cei%2Cip%2Cid%2Citag%2Csource%2Crequiressl%2Cxpc%2Cvprv%2Csvpuc%2Cmime%2Crqh%2Cgir%2Cclen%2Cdur%2Clmt&sig=AJfQdSswRQIgGuPfh-wmk_QBWQS_nEn2Av_NkYPN_3ys6VEgKEAbU2gCIQCTJWFAPTqid9hF5UeFhijH-8IOoHh5evSATPCtZwgnrw%3D%3D&lsparams=met%2Cmh%2Cmm%2Cmn%2Cms%2Cmv%2Cmvi%2Cpl%2Crms%2Cinitcwndbps&lsig=ACJ0pHgwRAIgQDXTjulQ-uYTSxGc9dkoVMICNuCKkbJAdxt4CewqoakCIG6QPtO5MacqXDz_h8N8gfNYF81SItVTQIUZRw8OGZss'},\n",
       " {'extension': 'mp4',\n",
       "  'format_name': '617 - 1920x1080',\n",
       "  'url': 'https://manifest.googlevideo.com/api/manifest/hls_playlist/expire/1728734731/ei/qxEKZ_bZH_-_mLAP9eedAQ/ip/156.209.173.224/id/341b840f63e2bdb6/itag/617/source/youtube/requiressl/yes/ratebypass/yes/pfa/1/wft/1/sgovp/clen%3D300312316%3Bdur%3D2247.749%3Bgir%3Dyes%3Bitag%3D303%3Blmt%3D1635527267110811/rqh/1/hls_chunk_host/rr6---sn-uxaxjvhxbt2u-xhte.googlevideo.com/xpc/EgVo2aDSNQ%3D%3D/met/1728713131,/mh/X0/mm/31,29/mn/sn-uxaxjvhxbt2u-xhte,sn-hgn7yn7l/ms/au,rdu/mv/m/mvi/6/pl/19/rms/au,au/initcwndbps/363750/vprv/1/playlist_type/DVR/dover/13/txp/5432434/mt/1728712610/fvip/3/short_key/1/keepalive/yes/fexp/51300761/sparams/expire,ei,ip,id,itag,source,requiressl,ratebypass,pfa,wft,sgovp,rqh,xpc,vprv,playlist_type/sig/AJfQdSswRAIgPY1Tnk7alM9RjvbG-_xd906zM1xsHv60U0qQ7qgBX1YCIFtgGoJitaBgd8ukDUZVcQxz35stag-Mani5ArgbM3AG/lsparams/hls_chunk_host,met,mh,mm,mn,ms,mv,mvi,pl,rms,initcwndbps/lsig/ACJ0pHgwRAIgQQ626HxI4JF60dR_RZ5A8ax2rythJCWZGJq6dgqPGbkCIGzhUnYdjav7t1XzMru7OOHDVm3U4HZxj0P0zEduud46/playlist/index.m3u8'},\n",
       " {'extension': 'webm',\n",
       "  'format_name': '303 - 1920x1080 (1080p60)',\n",
       "  'url': 'https://rr6---sn-uxaxjvhxbt2u-xhte.googlevideo.com/videoplayback?expire=1728734731&ei=qxEKZ_bZH_-_mLAP9eedAQ&ip=156.209.173.224&id=o-ABiwGs0GUhtumyVHJSI9T2R4lD4_-kGK6Z46-fIh8VxQ&itag=303&source=youtube&requiressl=yes&xpc=EgVo2aDSNQ%3D%3D&met=1728713131%2C&mh=X0&mm=31%2C29&mn=sn-uxaxjvhxbt2u-xhte%2Csn-hgn7yn7l&ms=au%2Crdu&mv=m&mvi=6&pl=19&rms=au%2Cau&initcwndbps=363750&vprv=1&svpuc=1&mime=video%2Fwebm&rqh=1&gir=yes&clen=300312316&dur=2247.749&lmt=1635527267110811&mt=1728712610&fvip=3&keepalive=yes&fexp=51300761&c=IOS&txp=5432434&sparams=expire%2Cei%2Cip%2Cid%2Citag%2Csource%2Crequiressl%2Cxpc%2Cvprv%2Csvpuc%2Cmime%2Crqh%2Cgir%2Cclen%2Cdur%2Clmt&sig=AJfQdSswRQIgSPgiVbtKe3CuQD2qAo1rsu-W-J--s9C1O0c6QZzpYwACIQC3ZszHOGyBgYRTCqzCk9c5jgdhbQhp1ndtqNUPNgt3cg%3D%3D&lsparams=met%2Cmh%2Cmm%2Cmn%2Cms%2Cmv%2Cmvi%2Cpl%2Crms%2Cinitcwndbps&lsig=ACJ0pHgwRAIgQDXTjulQ-uYTSxGc9dkoVMICNuCKkbJAdxt4CewqoakCIG6QPtO5MacqXDz_h8N8gfNYF81SItVTQIUZRw8OGZss'},\n",
       " {'extension': 'mp4',\n",
       "  'format_name': '400 - 2560x1440 (1440p60)',\n",
       "  'url': 'https://rr6---sn-uxaxjvhxbt2u-xhte.googlevideo.com/videoplayback?expire=1728734731&ei=qxEKZ_bZH_-_mLAP9eedAQ&ip=156.209.173.224&id=o-ABiwGs0GUhtumyVHJSI9T2R4lD4_-kGK6Z46-fIh8VxQ&itag=400&source=youtube&requiressl=yes&xpc=EgVo2aDSNQ%3D%3D&met=1728713131%2C&mh=X0&mm=31%2C29&mn=sn-uxaxjvhxbt2u-xhte%2Csn-hgn7yn7l&ms=au%2Crdu&mv=m&mvi=6&pl=19&rms=au%2Cau&initcwndbps=363750&vprv=1&svpuc=1&mime=video%2Fmp4&rqh=1&gir=yes&clen=655982266&dur=2247.750&lmt=1636513457962427&mt=1728712610&fvip=3&keepalive=yes&fexp=51300761&c=IOS&txp=5436434&sparams=expire%2Cei%2Cip%2Cid%2Citag%2Csource%2Crequiressl%2Cxpc%2Cvprv%2Csvpuc%2Cmime%2Crqh%2Cgir%2Cclen%2Cdur%2Clmt&sig=AJfQdSswRQIgRLTIdtkK9_O1Pe3zf8mT9eGJn1K49lFScaACDGX1czgCIQCVLIJs5BAM0ejMAB-v8qbI3pKgcqwKdBDzfqgKE8QkbQ%3D%3D&lsparams=met%2Cmh%2Cmm%2Cmn%2Cms%2Cmv%2Cmvi%2Cpl%2Crms%2Cinitcwndbps&lsig=ACJ0pHgwRAIgQDXTjulQ-uYTSxGc9dkoVMICNuCKkbJAdxt4CewqoakCIG6QPtO5MacqXDz_h8N8gfNYF81SItVTQIUZRw8OGZss'},\n",
       " {'extension': 'mp4',\n",
       "  'format_name': '623 - 2560x1440',\n",
       "  'url': 'https://manifest.googlevideo.com/api/manifest/hls_playlist/expire/1728734731/ei/qxEKZ_bZH_-_mLAP9eedAQ/ip/156.209.173.224/id/341b840f63e2bdb6/itag/623/source/youtube/requiressl/yes/ratebypass/yes/pfa/1/wft/1/sgovp/clen%3D1150746065%3Bdur%3D2247.749%3Bgir%3Dyes%3Bitag%3D308%3Blmt%3D1635527630471002/rqh/1/hls_chunk_host/rr6---sn-uxaxjvhxbt2u-xhte.googlevideo.com/xpc/EgVo2aDSNQ%3D%3D/met/1728713131,/mh/X0/mm/31,29/mn/sn-uxaxjvhxbt2u-xhte,sn-hgn7yn7l/ms/au,rdu/mv/m/mvi/6/pl/19/rms/au,au/initcwndbps/363750/vprv/1/playlist_type/DVR/dover/13/txp/5432434/mt/1728712610/fvip/3/short_key/1/keepalive/yes/fexp/51300761/sparams/expire,ei,ip,id,itag,source,requiressl,ratebypass,pfa,wft,sgovp,rqh,xpc,vprv,playlist_type/sig/AJfQdSswRAIgD8orKef4ZebThu7-p-jGvwt4L0fFUAnBpACdRPonLV4CIEUiMaU8cJjO-WU_moBdMifeoELtjUuCfHW9iMRU5eec/lsparams/hls_chunk_host,met,mh,mm,mn,ms,mv,mvi,pl,rms,initcwndbps/lsig/ACJ0pHgwRgIhANANL_RKsnMrr7K0GdGsaMO1hkINRPFdUacKAhRzLHM0AiEA-K6bgeNArnhHXPtMSHlZlvCHZNPWulR8MWzzcUMVty0%3D/playlist/index.m3u8'},\n",
       " {'extension': 'webm',\n",
       "  'format_name': '308 - 2560x1440 (1440p60)',\n",
       "  'url': 'https://rr6---sn-uxaxjvhxbt2u-xhte.googlevideo.com/videoplayback?expire=1728734731&ei=qxEKZ_bZH_-_mLAP9eedAQ&ip=156.209.173.224&id=o-ABiwGs0GUhtumyVHJSI9T2R4lD4_-kGK6Z46-fIh8VxQ&itag=308&source=youtube&requiressl=yes&xpc=EgVo2aDSNQ%3D%3D&met=1728713131%2C&mh=X0&mm=31%2C29&mn=sn-uxaxjvhxbt2u-xhte%2Csn-hgn7yn7l&ms=au%2Crdu&mv=m&mvi=6&pl=19&rms=au%2Cau&initcwndbps=363750&vprv=1&svpuc=1&mime=video%2Fwebm&rqh=1&gir=yes&clen=1150746065&dur=2247.749&lmt=1635527630471002&mt=1728712610&fvip=3&keepalive=yes&fexp=51300761&c=IOS&txp=5432434&sparams=expire%2Cei%2Cip%2Cid%2Citag%2Csource%2Crequiressl%2Cxpc%2Cvprv%2Csvpuc%2Cmime%2Crqh%2Cgir%2Cclen%2Cdur%2Clmt&sig=AJfQdSswRQIhAJzNK1QVLzqf4T9NPX2I9e5eYC_qcEhtlaRzfdsXsn9DAiAvM6z_1Lm4-hX9C5xFIevyNUL8UoHLHneRiOU9zwhxbg%3D%3D&lsparams=met%2Cmh%2Cmm%2Cmn%2Cms%2Cmv%2Cmvi%2Cpl%2Crms%2Cinitcwndbps&lsig=ACJ0pHgwRAIgQDXTjulQ-uYTSxGc9dkoVMICNuCKkbJAdxt4CewqoakCIG6QPtO5MacqXDz_h8N8gfNYF81SItVTQIUZRw8OGZss'}]"
      ]
     },
     "execution_count": 68,
     "metadata": {},
     "output_type": "execute_result"
    }
   ],
   "source": [
    "all_formats = [extract_format_data(format_data) for format_data in formats]\n",
    "all_formats"
   ]
  },
  {
   "cell_type": "code",
   "execution_count": 84,
   "metadata": {},
   "outputs": [],
   "source": [
    "thumbnails = video_data['thumbnails']"
   ]
  },
  {
   "cell_type": "code",
   "execution_count": 89,
   "metadata": {},
   "outputs": [],
   "source": [
    "res =extract_video_data_from_url(\"https://www.dailymotion.com/video/x8b5ckm\")\n",
    "res"
   ]
  }
 ],
 "metadata": {
  "kernelspec": {
   "display_name": "venv",
   "language": "python",
   "name": "python3"
  },
  "language_info": {
   "codemirror_mode": {
    "name": "ipython",
    "version": 3
   },
   "file_extension": ".py",
   "mimetype": "text/x-python",
   "name": "python",
   "nbconvert_exporter": "python",
   "pygments_lexer": "ipython3",
   "version": "3.12.1"
  }
 },
 "nbformat": 4,
 "nbformat_minor": 2
}
